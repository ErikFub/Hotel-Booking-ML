{
 "cells": [
  {
   "cell_type": "markdown",
   "metadata": {},
   "source": [
    "# Helping Hotels in times of flexible bookings\n",
    "\n",
    "As the pandemic has changed the tourism industry, customers are more and more used to flexibility options and cancellations when it comes to hotel bookings. Hotels are therefore offering their customers more options when it comes to changing and cancelling an existing booking. However, this imposes cost to a hotel business, as rooms are reserved for a long time and then might be cancelled shortly in advance. This short time is often not enough to find a new, paying customer for the hotel room.\n",
    "\n",
    "Therefore hotels might use a concept that is already prevailent in airlines: Overbooking the rooms they actually have. By accepting more bookings than a hotel has rooms, it can make sure to be closer to full capacity utilization. However, this imposes the risk of not having rooms available and having to reject customers that have a reserved room. This would be a very bad situation. Therefore it can be very beneficial to build a Machine Learning model that successfully predicts whether a customer is likely to cancel their booking, enabling the hotels to overbook the optimal number of rooms. That is the goal of this work.\n",
    "\n",
    "### Select a performance measure\n",
    "\n",
    "Classification of singular bookings or regression of rate of cancellations?\n",
    "\n",
    "- What is the cost of False Positives (we predict cancel, but customers show up and we have filled the slot)? bad\n",
    "- What is the cost of False Negatives (we predict show up, but customers cancel and we miss to fill the slot)?\n",
    "- What is the gain of True Positives (we fill the slot and it works out fine)?\n",
    "- What happens for False negatives (nothing, I suppose)?\n",
    "\n",
    "--> What can we do with this information?\n",
    "- choose threshold according to a maximization of profit\n",
    "- create a custom metric to evaluate our models\n",
    "- create a custom loss function to build the models\n",
    "\n",
    "\n",
    "### Check the assumptions"
   ]
  },
  {
   "cell_type": "markdown",
   "metadata": {},
   "source": [
    "## 0. Imports & Data Access"
   ]
  },
  {
   "cell_type": "code",
   "execution_count": 1,
   "metadata": {
    "collapsed": false,
    "jupyter": {
     "outputs_hidden": false
    },
    "pycharm": {
     "name": "#%%\n"
    }
   },
   "outputs": [],
   "source": [
    "import matplotlib.pyplot as plt\n",
    "import missingno\n",
    "import pandas as pd\n",
    "import seaborn as sns\n",
    "import numpy as np\n",
    "import os\n",
    "from datetime import timedelta\n",
    "\n",
    "plt.style.use('seaborn')\n",
    "seed = 42"
   ]
  },
  {
   "cell_type": "code",
   "execution_count": 2,
   "metadata": {
    "collapsed": false,
    "jupyter": {
     "outputs_hidden": false
    },
    "pycharm": {
     "name": "#%%\n"
    }
   },
   "outputs": [],
   "source": [
    "exec_directory = os.getcwd()\n",
    "main_directory = \"Hotel-Booking-ML\"\n",
    "main_dir_path = exec_directory[:exec_directory.find(main_directory) + len(main_directory)]\n",
    "raw_data_files_location = f\"{main_dir_path}/data/raw\"\n",
    "df_all = pd.read_csv(f\"{raw_data_files_location}/hotel_booking.csv\")"
   ]
  },
  {
   "cell_type": "markdown",
   "metadata": {},
   "source": [
    "As a first step we'll drop the columns 'reservation_status' and 'reservation_status_date' as they include information on our label. The value 'canceled' in 'reservation_status' indicates the same as 'is_canceled', this obviously information we don't need and shouldn't feed into the model."
   ]
  },
  {
   "cell_type": "code",
   "execution_count": 3,
   "metadata": {
    "collapsed": false,
    "jupyter": {
     "outputs_hidden": false
    },
    "pycharm": {
     "name": "#%%\n"
    }
   },
   "outputs": [],
   "source": [
    "df_all.drop(columns = ['reservation_status', 'reservation_status_date' ], inplace = True)"
   ]
  },
  {
   "cell_type": "markdown",
   "metadata": {},
   "source": [
    "## 1. Data Exploration"
   ]
  },
  {
   "cell_type": "code",
   "execution_count": 4,
   "metadata": {
    "collapsed": false,
    "jupyter": {
     "outputs_hidden": false
    },
    "pycharm": {
     "name": "#%%\n"
    }
   },
   "outputs": [
    {
     "data": {
      "text/html": [
       "<div>\n",
       "<style scoped>\n",
       "    .dataframe tbody tr th:only-of-type {\n",
       "        vertical-align: middle;\n",
       "    }\n",
       "\n",
       "    .dataframe tbody tr th {\n",
       "        vertical-align: top;\n",
       "    }\n",
       "\n",
       "    .dataframe thead th {\n",
       "        text-align: right;\n",
       "    }\n",
       "</style>\n",
       "<table border=\"1\" class=\"dataframe\">\n",
       "  <thead>\n",
       "    <tr style=\"text-align: right;\">\n",
       "      <th></th>\n",
       "      <th>is_canceled</th>\n",
       "      <th>lead_time</th>\n",
       "      <th>arrival_date_year</th>\n",
       "      <th>arrival_date_week_number</th>\n",
       "      <th>arrival_date_day_of_month</th>\n",
       "      <th>stays_in_weekend_nights</th>\n",
       "      <th>stays_in_week_nights</th>\n",
       "      <th>adults</th>\n",
       "      <th>children</th>\n",
       "      <th>babies</th>\n",
       "      <th>is_repeated_guest</th>\n",
       "      <th>previous_cancellations</th>\n",
       "      <th>previous_bookings_not_canceled</th>\n",
       "      <th>booking_changes</th>\n",
       "      <th>agent</th>\n",
       "      <th>company</th>\n",
       "      <th>days_in_waiting_list</th>\n",
       "      <th>adr</th>\n",
       "      <th>required_car_parking_spaces</th>\n",
       "      <th>total_of_special_requests</th>\n",
       "    </tr>\n",
       "  </thead>\n",
       "  <tbody>\n",
       "    <tr>\n",
       "      <th>count</th>\n",
       "      <td>119390.000000</td>\n",
       "      <td>119390.000000</td>\n",
       "      <td>119390.000000</td>\n",
       "      <td>119390.000000</td>\n",
       "      <td>119390.000000</td>\n",
       "      <td>119390.000000</td>\n",
       "      <td>119390.000000</td>\n",
       "      <td>119390.000000</td>\n",
       "      <td>119386.000000</td>\n",
       "      <td>119390.000000</td>\n",
       "      <td>119390.000000</td>\n",
       "      <td>119390.000000</td>\n",
       "      <td>119390.000000</td>\n",
       "      <td>119390.000000</td>\n",
       "      <td>103050.000000</td>\n",
       "      <td>6797.000000</td>\n",
       "      <td>119390.000000</td>\n",
       "      <td>119390.000000</td>\n",
       "      <td>119390.000000</td>\n",
       "      <td>119390.000000</td>\n",
       "    </tr>\n",
       "    <tr>\n",
       "      <th>mean</th>\n",
       "      <td>0.370416</td>\n",
       "      <td>104.011416</td>\n",
       "      <td>2016.156554</td>\n",
       "      <td>27.165173</td>\n",
       "      <td>15.798241</td>\n",
       "      <td>0.927599</td>\n",
       "      <td>2.500302</td>\n",
       "      <td>1.856403</td>\n",
       "      <td>0.103890</td>\n",
       "      <td>0.007949</td>\n",
       "      <td>0.031912</td>\n",
       "      <td>0.087118</td>\n",
       "      <td>0.137097</td>\n",
       "      <td>0.221124</td>\n",
       "      <td>86.693382</td>\n",
       "      <td>189.266735</td>\n",
       "      <td>2.321149</td>\n",
       "      <td>101.831122</td>\n",
       "      <td>0.062518</td>\n",
       "      <td>0.571363</td>\n",
       "    </tr>\n",
       "    <tr>\n",
       "      <th>std</th>\n",
       "      <td>0.482918</td>\n",
       "      <td>106.863097</td>\n",
       "      <td>0.707476</td>\n",
       "      <td>13.605138</td>\n",
       "      <td>8.780829</td>\n",
       "      <td>0.998613</td>\n",
       "      <td>1.908286</td>\n",
       "      <td>0.579261</td>\n",
       "      <td>0.398561</td>\n",
       "      <td>0.097436</td>\n",
       "      <td>0.175767</td>\n",
       "      <td>0.844336</td>\n",
       "      <td>1.497437</td>\n",
       "      <td>0.652306</td>\n",
       "      <td>110.774548</td>\n",
       "      <td>131.655015</td>\n",
       "      <td>17.594721</td>\n",
       "      <td>50.535790</td>\n",
       "      <td>0.245291</td>\n",
       "      <td>0.792798</td>\n",
       "    </tr>\n",
       "    <tr>\n",
       "      <th>min</th>\n",
       "      <td>0.000000</td>\n",
       "      <td>0.000000</td>\n",
       "      <td>2015.000000</td>\n",
       "      <td>1.000000</td>\n",
       "      <td>1.000000</td>\n",
       "      <td>0.000000</td>\n",
       "      <td>0.000000</td>\n",
       "      <td>0.000000</td>\n",
       "      <td>0.000000</td>\n",
       "      <td>0.000000</td>\n",
       "      <td>0.000000</td>\n",
       "      <td>0.000000</td>\n",
       "      <td>0.000000</td>\n",
       "      <td>0.000000</td>\n",
       "      <td>1.000000</td>\n",
       "      <td>6.000000</td>\n",
       "      <td>0.000000</td>\n",
       "      <td>-6.380000</td>\n",
       "      <td>0.000000</td>\n",
       "      <td>0.000000</td>\n",
       "    </tr>\n",
       "    <tr>\n",
       "      <th>25%</th>\n",
       "      <td>0.000000</td>\n",
       "      <td>18.000000</td>\n",
       "      <td>2016.000000</td>\n",
       "      <td>16.000000</td>\n",
       "      <td>8.000000</td>\n",
       "      <td>0.000000</td>\n",
       "      <td>1.000000</td>\n",
       "      <td>2.000000</td>\n",
       "      <td>0.000000</td>\n",
       "      <td>0.000000</td>\n",
       "      <td>0.000000</td>\n",
       "      <td>0.000000</td>\n",
       "      <td>0.000000</td>\n",
       "      <td>0.000000</td>\n",
       "      <td>9.000000</td>\n",
       "      <td>62.000000</td>\n",
       "      <td>0.000000</td>\n",
       "      <td>69.290000</td>\n",
       "      <td>0.000000</td>\n",
       "      <td>0.000000</td>\n",
       "    </tr>\n",
       "    <tr>\n",
       "      <th>50%</th>\n",
       "      <td>0.000000</td>\n",
       "      <td>69.000000</td>\n",
       "      <td>2016.000000</td>\n",
       "      <td>28.000000</td>\n",
       "      <td>16.000000</td>\n",
       "      <td>1.000000</td>\n",
       "      <td>2.000000</td>\n",
       "      <td>2.000000</td>\n",
       "      <td>0.000000</td>\n",
       "      <td>0.000000</td>\n",
       "      <td>0.000000</td>\n",
       "      <td>0.000000</td>\n",
       "      <td>0.000000</td>\n",
       "      <td>0.000000</td>\n",
       "      <td>14.000000</td>\n",
       "      <td>179.000000</td>\n",
       "      <td>0.000000</td>\n",
       "      <td>94.575000</td>\n",
       "      <td>0.000000</td>\n",
       "      <td>0.000000</td>\n",
       "    </tr>\n",
       "    <tr>\n",
       "      <th>75%</th>\n",
       "      <td>1.000000</td>\n",
       "      <td>160.000000</td>\n",
       "      <td>2017.000000</td>\n",
       "      <td>38.000000</td>\n",
       "      <td>23.000000</td>\n",
       "      <td>2.000000</td>\n",
       "      <td>3.000000</td>\n",
       "      <td>2.000000</td>\n",
       "      <td>0.000000</td>\n",
       "      <td>0.000000</td>\n",
       "      <td>0.000000</td>\n",
       "      <td>0.000000</td>\n",
       "      <td>0.000000</td>\n",
       "      <td>0.000000</td>\n",
       "      <td>229.000000</td>\n",
       "      <td>270.000000</td>\n",
       "      <td>0.000000</td>\n",
       "      <td>126.000000</td>\n",
       "      <td>0.000000</td>\n",
       "      <td>1.000000</td>\n",
       "    </tr>\n",
       "    <tr>\n",
       "      <th>max</th>\n",
       "      <td>1.000000</td>\n",
       "      <td>737.000000</td>\n",
       "      <td>2017.000000</td>\n",
       "      <td>53.000000</td>\n",
       "      <td>31.000000</td>\n",
       "      <td>19.000000</td>\n",
       "      <td>50.000000</td>\n",
       "      <td>55.000000</td>\n",
       "      <td>10.000000</td>\n",
       "      <td>10.000000</td>\n",
       "      <td>1.000000</td>\n",
       "      <td>26.000000</td>\n",
       "      <td>72.000000</td>\n",
       "      <td>21.000000</td>\n",
       "      <td>535.000000</td>\n",
       "      <td>543.000000</td>\n",
       "      <td>391.000000</td>\n",
       "      <td>5400.000000</td>\n",
       "      <td>8.000000</td>\n",
       "      <td>5.000000</td>\n",
       "    </tr>\n",
       "  </tbody>\n",
       "</table>\n",
       "</div>"
      ],
      "text/plain": [
       "         is_canceled      lead_time  arrival_date_year  \\\n",
       "count  119390.000000  119390.000000      119390.000000   \n",
       "mean        0.370416     104.011416        2016.156554   \n",
       "std         0.482918     106.863097           0.707476   \n",
       "min         0.000000       0.000000        2015.000000   \n",
       "25%         0.000000      18.000000        2016.000000   \n",
       "50%         0.000000      69.000000        2016.000000   \n",
       "75%         1.000000     160.000000        2017.000000   \n",
       "max         1.000000     737.000000        2017.000000   \n",
       "\n",
       "       arrival_date_week_number  arrival_date_day_of_month  \\\n",
       "count             119390.000000              119390.000000   \n",
       "mean                  27.165173                  15.798241   \n",
       "std                   13.605138                   8.780829   \n",
       "min                    1.000000                   1.000000   \n",
       "25%                   16.000000                   8.000000   \n",
       "50%                   28.000000                  16.000000   \n",
       "75%                   38.000000                  23.000000   \n",
       "max                   53.000000                  31.000000   \n",
       "\n",
       "       stays_in_weekend_nights  stays_in_week_nights         adults  \\\n",
       "count            119390.000000         119390.000000  119390.000000   \n",
       "mean                  0.927599              2.500302       1.856403   \n",
       "std                   0.998613              1.908286       0.579261   \n",
       "min                   0.000000              0.000000       0.000000   \n",
       "25%                   0.000000              1.000000       2.000000   \n",
       "50%                   1.000000              2.000000       2.000000   \n",
       "75%                   2.000000              3.000000       2.000000   \n",
       "max                  19.000000             50.000000      55.000000   \n",
       "\n",
       "            children         babies  is_repeated_guest  \\\n",
       "count  119386.000000  119390.000000      119390.000000   \n",
       "mean        0.103890       0.007949           0.031912   \n",
       "std         0.398561       0.097436           0.175767   \n",
       "min         0.000000       0.000000           0.000000   \n",
       "25%         0.000000       0.000000           0.000000   \n",
       "50%         0.000000       0.000000           0.000000   \n",
       "75%         0.000000       0.000000           0.000000   \n",
       "max        10.000000      10.000000           1.000000   \n",
       "\n",
       "       previous_cancellations  previous_bookings_not_canceled  \\\n",
       "count           119390.000000                   119390.000000   \n",
       "mean                 0.087118                        0.137097   \n",
       "std                  0.844336                        1.497437   \n",
       "min                  0.000000                        0.000000   \n",
       "25%                  0.000000                        0.000000   \n",
       "50%                  0.000000                        0.000000   \n",
       "75%                  0.000000                        0.000000   \n",
       "max                 26.000000                       72.000000   \n",
       "\n",
       "       booking_changes          agent      company  days_in_waiting_list  \\\n",
       "count    119390.000000  103050.000000  6797.000000         119390.000000   \n",
       "mean          0.221124      86.693382   189.266735              2.321149   \n",
       "std           0.652306     110.774548   131.655015             17.594721   \n",
       "min           0.000000       1.000000     6.000000              0.000000   \n",
       "25%           0.000000       9.000000    62.000000              0.000000   \n",
       "50%           0.000000      14.000000   179.000000              0.000000   \n",
       "75%           0.000000     229.000000   270.000000              0.000000   \n",
       "max          21.000000     535.000000   543.000000            391.000000   \n",
       "\n",
       "                 adr  required_car_parking_spaces  total_of_special_requests  \n",
       "count  119390.000000                119390.000000              119390.000000  \n",
       "mean      101.831122                     0.062518                   0.571363  \n",
       "std        50.535790                     0.245291                   0.792798  \n",
       "min        -6.380000                     0.000000                   0.000000  \n",
       "25%        69.290000                     0.000000                   0.000000  \n",
       "50%        94.575000                     0.000000                   0.000000  \n",
       "75%       126.000000                     0.000000                   1.000000  \n",
       "max      5400.000000                     8.000000                   5.000000  "
      ]
     },
     "execution_count": 4,
     "metadata": {},
     "output_type": "execute_result"
    }
   ],
   "source": [
    "df_all.describe()"
   ]
  },
  {
   "cell_type": "code",
   "execution_count": 5,
   "metadata": {
    "collapsed": false,
    "jupyter": {
     "outputs_hidden": false
    },
    "pycharm": {
     "name": "#%%\n"
    }
   },
   "outputs": [
    {
     "data": {
      "text/plain": [
       "<AxesSubplot:>"
      ]
     },
     "execution_count": 5,
     "metadata": {},
     "output_type": "execute_result"
    },
    {
     "data": {
      "image/png": "[encoded data removed]",
      "text/plain": [
       "<Figure size 1800x720 with 2 Axes>"
      ]
     },
     "metadata": {},
     "output_type": "display_data"
    }
   ],
   "source": [
    "missingno.matrix(df_all)"
   ]
  },
  {
   "cell_type": "code",
   "execution_count": 6,
   "metadata": {
    "collapsed": false,
    "jupyter": {
     "outputs_hidden": false
    },
    "pycharm": {
     "name": "#%%\n"
    }
   },
   "outputs": [
    {
     "data": {
      "text/plain": [
       "hotel                                  0\n",
       "is_canceled                            0\n",
       "lead_time                              0\n",
       "arrival_date_year                      0\n",
       "arrival_date_month                     0\n",
       "arrival_date_week_number               0\n",
       "arrival_date_day_of_month              0\n",
       "stays_in_weekend_nights                0\n",
       "stays_in_week_nights                   0\n",
       "adults                                 0\n",
       "children                               4\n",
       "babies                                 0\n",
       "meal                                   0\n",
       "country                              488\n",
       "market_segment                         0\n",
       "distribution_channel                   0\n",
       "is_repeated_guest                      0\n",
       "previous_cancellations                 0\n",
       "previous_bookings_not_canceled         0\n",
       "reserved_room_type                     0\n",
       "assigned_room_type                     0\n",
       "booking_changes                        0\n",
       "deposit_type                           0\n",
       "agent                              16340\n",
       "company                           112593\n",
       "days_in_waiting_list                   0\n",
       "customer_type                          0\n",
       "adr                                    0\n",
       "required_car_parking_spaces            0\n",
       "total_of_special_requests              0\n",
       "name                                   0\n",
       "email                                  0\n",
       "phone-number                           0\n",
       "credit_card                            0\n",
       "dtype: int64"
      ]
     },
     "execution_count": 6,
     "metadata": {},
     "output_type": "execute_result"
    }
   ],
   "source": [
    "df_all.isna().sum()"
   ]
  },
  {
   "cell_type": "markdown",
   "metadata": {},
   "source": [
    "#### Missing values\n",
    "\n",
    "Luckily our dataset is complete for all features apart from agent and company. According to the data dictionary of the dataset these columns represent IDs of the agents and companies (in case of business travel) that made the bookings. Therefore it is likely that missing values do represent an information: a NA in 'company' indicates that the booking was not a business travel and a NA in 'agent' indicates that no agent was used for the booking, meaning that it was a direct booking.\n",
    "\n",
    "Therefore we'll use OneHot encoding later on, to understand if there is a correlation between company, agent and our labels. "
   ]
  },
  {
   "cell_type": "markdown",
   "metadata": {},
   "source": [
    "#### Data transformation and aggregation. \n",
    "\n",
    "Before starting with the EDA we'll transform arrival and booking date to datetime format and transform the type of children in order to facilitate subsequent code operations. <br> We'll also aggregate data by calculating the number of total nights and retrieving the total number of guests. The aim of this is to reduce the number of features by aggregating redundant / similar information."
   ]
  },
  {
   "cell_type": "code",
   "execution_count": 7,
   "metadata": {
    "collapsed": false,
    "jupyter": {
     "outputs_hidden": false
    },
    "pycharm": {
     "name": "#%%\n"
    }
   },
   "outputs": [],
   "source": [
    "df_all.dropna(subset=['children'], inplace=True)\n",
    "df_all['children'] = df_all['children'].astype(int)\n",
    "df_all = df_all.astype({\"country\": str})"
   ]
  },
  {
   "cell_type": "code",
   "execution_count": 8,
   "metadata": {
    "collapsed": false,
    "jupyter": {
     "outputs_hidden": false
    },
    "pycharm": {
     "name": "#%%\n"
    }
   },
   "outputs": [],
   "source": [
    "# Getting arrival and booking dates right\n",
    "month_mapping = {'January': 1, 'February': 2, 'March': 3, 'April': 4, 'May': 5, 'June': 6, 'July': 7,\n",
    "                         'August': 8, 'September': 9, 'October': 10, 'November': 11, 'December': 12}\n",
    "df_all['arrival_date_month'] = df_all['arrival_date_month'].apply(lambda m: month_mapping[m])\n",
    "df_all['arrival_date'] = pd.to_datetime(dict(year = df_all.arrival_date_year, \n",
    "                                         month = df_all.arrival_date_month, \n",
    "                                         day = df_all.arrival_date_day_of_month))\n",
    "df_all['booking_date'] = df_all.apply(lambda r: r['arrival_date'] - timedelta(days=r['lead_time']), axis=1)\n",
    "df_all['booking_date_day_of_week'] = df_all['booking_date'].dt.weekday\n",
    "\n",
    "# Number of Guests\n",
    "df_all['guests'] = df_all['adults'] + df_all['children'] + df_all['babies']\n",
    "\n",
    "# Length of stay\n",
    "df_all['stay_total_nights'] = df_all['stays_in_weekend_nights'] + df_all['stays_in_week_nights']\n",
    "\n",
    "# Is Family\n",
    "df_all['is_family'] = np.where((df_all['children'] >= 1) | (df_all['babies'] >= 1), 1, 0)\n",
    "\n",
    "# Assigned room type changed from booked room type\n",
    "df_all['room_changed'] = np.where(df_all['reserved_room_type'] == df_all['assigned_room_type'], 0, 1)"
   ]
  },
  {
   "cell_type": "markdown",
   "metadata": {},
   "source": [
    "As a second step, we split the data in a train and a test set before working on the data, because we don't want to influence our training and analysis by any information from the test set. We are using a 24 month period from 1st of July 2015 till 1st of July 2017 for training. Later, we will test our model's performance on a 2 month period including July and August 2017. This period is also a high demand period for hotels in which overbooking can be especially benefitial. "
   ]
  },
  {
   "cell_type": "code",
   "execution_count": 9,
   "metadata": {
    "collapsed": false,
    "jupyter": {
     "outputs_hidden": false
    },
    "pycharm": {
     "name": "#%%\n"
    }
   },
   "outputs": [
    {
     "name": "stdout",
     "output_type": "stream",
     "text": [
      "(109148, 41)\n",
      "(10238, 41)\n"
     ]
    }
   ],
   "source": [
    "import datetime\n",
    "df = df_all[df_all['arrival_date'] < datetime.datetime(2017, 7, 1)]\n",
    "df_test = df_all[df_all['arrival_date'] >= datetime.datetime(2017, 7, 1)]\n",
    "print(df.shape)\n",
    "print(df_test.shape)"
   ]
  },
  {
   "cell_type": "markdown",
   "metadata": {},
   "source": [
    "## 2. Exploratory Data Analysis"
   ]
  },
  {
   "cell_type": "markdown",
   "metadata": {},
   "source": [
    "We firstly split the EDA for categorical and numerical features, as we'll perform different analysis methods. \n",
    "\n",
    "There are two exceptions here: \n",
    "- We'll see binary variables (with 0 and 1) as a numerical feature, as it can be analyzed with the methdos we use for the 'true' numerical features.\n",
    "- The 'hotel' feature discribes whether the data is for a 'City Hotel' or a 'Resort Hotel', it will be analyzed in numerical features as well. This is because we want to identify if it is worth to split the data we have according to the hotel and build separate models for each of the hotels. "
   ]
  },
  {
   "cell_type": "code",
   "execution_count": null,
   "metadata": {
    "collapsed": false,
    "jupyter": {
     "outputs_hidden": false
    },
    "pycharm": {
     "name": "#%%\n"
    }
   },
   "outputs": [],
   "source": [
    "df.head(5)"
   ]
  },
  {
   "cell_type": "code",
   "execution_count": null,
   "metadata": {
    "collapsed": false,
    "jupyter": {
     "outputs_hidden": false
    },
    "pycharm": {
     "name": "#%%\n"
    }
   },
   "outputs": [],
   "source": [
    "categorical_features = [ 'meal', 'country', 'market_segment', 'distribution_channel', \n",
    "                         'reserved_room_type', 'assigned_room_type', 'deposit_type', 'agent', 'company', \n",
    "                         'customer_type']\n",
    "\n",
    "df_num = df.drop(columns = categorical_features)\n",
    "\n",
    "categorical_features.append('is_canceled')\n",
    "df_cat = df[categorical_features]"
   ]
  },
  {
   "cell_type": "markdown",
   "metadata": {},
   "source": [
    "### 2.1 Numerical features\n",
    "#### 2.1.1 Correlations\n",
    "\n",
    "First we'll take a lookt at collinearity in the data set, by pairplotting relevant features and calculating their correlations.\n",
    "\n",
    "Please note that we are only using aggregated features here and not the features we calculated these aggregated ones on. For example, it wouldn't make sense to check for collinearity in guests with adults, children or babies as these variables are obviously correlated and won't be used side by side in the model. "
   ]
  },
  {
   "cell_type": "code",
   "execution_count": null,
   "metadata": {
    "collapsed": false,
    "jupyter": {
     "outputs_hidden": false
    },
    "pycharm": {
     "name": "#%%\n"
    }
   },
   "outputs": [],
   "source": [
    "sns.pairplot(data=df_num[['lead_time', 'arrival_date_month','days_in_waiting_list', 'adr', \n",
    "                          'required_car_parking_spaces', 'total_of_special_requests',\n",
    "                          'stay_total_nights', 'guests','previous_cancellations','previous_bookings_not_canceled','is_family']])\n",
    "plt.show(sns)"
   ]
  },
  {
   "cell_type": "code",
   "execution_count": null,
   "metadata": {
    "collapsed": false,
    "jupyter": {
     "outputs_hidden": false
    },
    "pycharm": {
     "name": "#%%\n"
    }
   },
   "outputs": [],
   "source": [
    "df_corr = pd.DataFrame(df_num[['lead_time', 'arrival_date_month','days_in_waiting_list', 'adr', \n",
    "                          'required_car_parking_spaces', 'total_of_special_requests',\n",
    "                          'stay_total_nights', 'guests','previous_cancellations','previous_bookings_not_canceled','is_family']].corr().unstack()).rename({0: 'correlation'}, axis=1)\n",
    "df_corr[df_corr['correlation'] != 1].sort_values(by='correlation')"
   ]
  },
  {
   "cell_type": "markdown",
   "metadata": {},
   "source": [
    "The highest correlation among our features is the correlation of ADR (revenue per day) with the number of guests, this follows the logic that with the more people you stay in a hotel, the more you'll spend. When building the model we'll take a closer look if this becomes a problem. For the other features the correlations are really small and therefore no worry.  "
   ]
  },
  {
   "cell_type": "markdown",
   "metadata": {},
   "source": [
    "Now, lets get the correlations of the **label** with the features, separately for the resort and city hotel to find out if they differ substiantially. This will be interesting when deciding whether to build separate models or not. "
   ]
  },
  {
   "cell_type": "code",
   "execution_count": null,
   "metadata": {
    "collapsed": false,
    "jupyter": {
     "outputs_hidden": false
    },
    "pycharm": {
     "name": "#%%\n"
    }
   },
   "outputs": [],
   "source": [
    "correlations_all = df_num.corr()['is_canceled'].sort_values(ascending=False)\n",
    "correlations_city = df_num[df_num['hotel'] == 'City Hotel'].corr()['is_canceled']\n",
    "correlations_resort = df_num[df_num['hotel'] == 'Resort Hotel'].corr()['is_canceled']\n",
    "correlations_df = correlations_all.to_frame().rename({'is_canceled': \"All\"}, axis=1)\n",
    "correlations_df = correlations_df.join(correlations_city).rename({'is_canceled': \"City\"}, axis=1)\n",
    "correlations_df = correlations_df.join(correlations_resort).rename({'is_canceled': \"Resort\"}, axis=1)\n",
    "correlations_df"
   ]
  },
  {
   "cell_type": "markdown",
   "metadata": {},
   "source": [
    "This already gives a good indication, but let's plot the data to make the difference easier to understand."
   ]
  },
  {
   "cell_type": "code",
   "execution_count": null,
   "metadata": {
    "collapsed": false,
    "jupyter": {
     "outputs_hidden": false
    },
    "pycharm": {
     "name": "#%%\n"
    }
   },
   "outputs": [],
   "source": [
    "correlations_plot_df = pd.melt(correlations_df.drop('is_canceled'), ignore_index=False, var_name=\"Hotel\", value_name=\"Correlation\")\n",
    "correlations_plot_df['Variable'] = correlations_plot_df.index\n",
    "sns.catplot(data=correlations_plot_df, kind='bar', x='Variable', y='Correlation', hue='Hotel', aspect=2)\n",
    "plt.xticks(rotation=90)\n",
    "plt.title('Correlations by hotels')\n",
    "plt.show()"
   ]
  },
  {
   "cell_type": "markdown",
   "metadata": {},
   "source": [
    "This bar-chart shows that lead_time, previous_canellations, total_of_special_requests, required_car_parking_space and booking_changes have a correlation that is higher than 0.1 (in absolute terms). These are important candidates for our ML model later on. Additionally, the chart shows that for some features the correlation heavily depends on the kind of hotel we are looking at: For example, the number of total special requests is highly correlated with the cancellations at the city hotel, but not so much at the resort hotel. \n",
    "\n",
    "Based on this observation we will try out when building our first models, wether separate models or a joint model for both hotels performs better. "
   ]
  },
  {
   "cell_type": "markdown",
   "metadata": {},
   "source": [
    "As booking changes cumulates over time the dataset doesn't include the information when the last change was made, we will not use it in our model. By this we prevent information that might have appeared just days before the arrival from influencing our model whith wich we want to predict cancelations at least 7 days before (the exact number will be deiced later on). \n",
    "\n",
    "Some numeric variables can also be used in binary form, which could benefit the model's performance. In order to find out which option should be picked, we will look at the correlations with the target variable is_canceled. Let's first look at total_of_special requests."
   ]
  },
  {
   "cell_type": "code",
   "execution_count": null,
   "metadata": {
    "collapsed": false,
    "jupyter": {
     "outputs_hidden": false
    },
    "pycharm": {
     "name": "#%%\n"
    }
   },
   "outputs": [],
   "source": [
    "df_corrcheck = df\n",
    "df_corrcheck['any_requests'] = df_corrcheck.total_of_special_requests.apply(lambda x: 1 if x > 0 else 0)\n",
    "df_corrcheck[['is_canceled', 'any_requests', 'total_of_special_requests']].corr()"
   ]
  },
  {
   "cell_type": "markdown",
   "metadata": {},
   "source": [
    "As the binary variable any_requests is more correlated with is_canceled, we will choose this option later on. Now let's inspect previous_canellations."
   ]
  },
  {
   "cell_type": "code",
   "execution_count": null,
   "metadata": {
    "collapsed": false,
    "jupyter": {
     "outputs_hidden": false
    },
    "pycharm": {
     "name": "#%%\n"
    }
   },
   "outputs": [],
   "source": [
    "df_corrcheck['any_cancelations'] = df_corrcheck.previous_cancellations.apply(lambda x: 1 if x > 0 else 0)\n",
    "df_corrcheck[['is_canceled', 'any_cancelations', 'previous_cancellations']].corr()"
   ]
  },
  {
   "cell_type": "markdown",
   "metadata": {},
   "source": [
    "This correlation is significantly higher in binary form. We will therefore use it in our model. Next up: required_car_parking_spaces."
   ]
  },
  {
   "cell_type": "code",
   "execution_count": null,
   "metadata": {
    "collapsed": false,
    "jupyter": {
     "outputs_hidden": false
    },
    "pycharm": {
     "name": "#%%\n"
    }
   },
   "outputs": [],
   "source": [
    "df_corrcheck['any_parking'] = df_corrcheck.required_car_parking_spaces.apply(lambda x: 1 if x > 0 else 0)\n",
    "df_corrcheck[['is_canceled', 'any_parking', 'required_car_parking_spaces']].corr()"
   ]
  },
  {
   "cell_type": "markdown",
   "metadata": {},
   "source": [
    "There is only little difference between the binary and the numeric column. We will go for the binary variable to keep the model simpler."
   ]
  },
  {
   "cell_type": "markdown",
   "metadata": {},
   "source": [
    "#### 2.1.2 Frequency Distributions"
   ]
  },
  {
   "cell_type": "code",
   "execution_count": null,
   "metadata": {
    "collapsed": false,
    "jupyter": {
     "outputs_hidden": false
    },
    "pycharm": {
     "name": "#%%\n"
    }
   },
   "outputs": [],
   "source": [
    "df_num.hist(bins=50, figsize=(25,15))\n",
    "plt.show()"
   ]
  },
  {
   "cell_type": "code",
   "execution_count": null,
   "metadata": {
    "collapsed": false,
    "jupyter": {
     "outputs_hidden": false
    },
    "pycharm": {
     "name": "#%%\n"
    }
   },
   "outputs": [],
   "source": [
    "sns.histplot(df['booking_date_day_of_week'])\n",
    "plt.show(sns)"
   ]
  },
  {
   "cell_type": "code",
   "execution_count": null,
   "metadata": {
    "collapsed": false,
    "jupyter": {
     "outputs_hidden": false
    },
    "pycharm": {
     "name": "#%%\n"
    }
   },
   "outputs": [],
   "source": [
    "sns.histplot(df['hotel'])\n",
    "plt.show(sns)"
   ]
  },
  {
   "cell_type": "code",
   "execution_count": null,
   "metadata": {
    "collapsed": false,
    "jupyter": {
     "outputs_hidden": false
    },
    "pycharm": {
     "name": "#%%\n"
    }
   },
   "outputs": [],
   "source": [
    "sns.histplot(df['lead_time'])\n",
    "plt.show(sns)"
   ]
  },
  {
   "cell_type": "markdown",
   "metadata": {},
   "source": [
    "### 2.2 Categorical variables\n",
    "\n",
    "#### 2.2.1 Understanding the categories\n",
    "\n",
    "Here we'll use df_cat, with all categorical features we have identified perviously. "
   ]
  },
  {
   "cell_type": "code",
   "execution_count": null,
   "metadata": {
    "collapsed": false,
    "jupyter": {
     "outputs_hidden": false
    },
    "pycharm": {
     "name": "#%%\n"
    }
   },
   "outputs": [],
   "source": [
    "df_cat.columns"
   ]
  },
  {
   "cell_type": "markdown",
   "metadata": {},
   "source": [
    "'Company' and 'agent' are columns with ids. Let's look at the values in the other (\"true\") categorical variables to get a feeling for what they are. "
   ]
  },
  {
   "cell_type": "code",
   "execution_count": null,
   "metadata": {
    "collapsed": false,
    "jupyter": {
     "outputs_hidden": false
    },
    "pycharm": {
     "name": "#%%\n"
    }
   },
   "outputs": [],
   "source": [
    "df_cat[['meal']].value_counts(normalize = True)"
   ]
  },
  {
   "cell_type": "code",
   "execution_count": null,
   "metadata": {
    "collapsed": false,
    "jupyter": {
     "outputs_hidden": false
    },
    "pycharm": {
     "name": "#%%\n"
    }
   },
   "outputs": [],
   "source": [
    "df_cat[['country']].value_counts(normalize = True).head(10)"
   ]
  },
  {
   "cell_type": "code",
   "execution_count": null,
   "metadata": {
    "collapsed": false,
    "jupyter": {
     "outputs_hidden": false
    },
    "pycharm": {
     "name": "#%%\n"
    }
   },
   "outputs": [],
   "source": [
    "df_cat[['market_segment']].value_counts(normalize = True)"
   ]
  },
  {
   "cell_type": "code",
   "execution_count": null,
   "metadata": {
    "collapsed": false,
    "jupyter": {
     "outputs_hidden": false
    },
    "pycharm": {
     "name": "#%%\n"
    }
   },
   "outputs": [],
   "source": [
    "df_cat[['distribution_channel']].value_counts(normalize = True)"
   ]
  },
  {
   "cell_type": "code",
   "execution_count": null,
   "metadata": {
    "collapsed": false,
    "jupyter": {
     "outputs_hidden": false
    },
    "pycharm": {
     "name": "#%%\n"
    }
   },
   "outputs": [],
   "source": [
    "df_cat[['reserved_room_type']].value_counts(normalize = True)"
   ]
  },
  {
   "cell_type": "code",
   "execution_count": null,
   "metadata": {
    "collapsed": false,
    "jupyter": {
     "outputs_hidden": false
    },
    "pycharm": {
     "name": "#%%\n"
    }
   },
   "outputs": [],
   "source": [
    "df_cat[['assigned_room_type']].value_counts(normalize = True)"
   ]
  },
  {
   "cell_type": "code",
   "execution_count": null,
   "metadata": {
    "collapsed": false,
    "jupyter": {
     "outputs_hidden": false
    },
    "pycharm": {
     "name": "#%%\n"
    }
   },
   "outputs": [],
   "source": [
    "df_cat[['deposit_type']].value_counts(normalize = True)"
   ]
  },
  {
   "cell_type": "code",
   "execution_count": null,
   "metadata": {
    "collapsed": false,
    "jupyter": {
     "outputs_hidden": false
    },
    "pycharm": {
     "name": "#%%\n"
    }
   },
   "outputs": [],
   "source": [
    "df_cat[['customer_type']].value_counts(normalize = True)"
   ]
  },
  {
   "cell_type": "markdown",
   "metadata": {},
   "source": [
    "Especially, the deposit type seems likely to have a high explanatory power. If you have made no deposit you are much more likely to cancel a booking than when you made a non-refundable deposit, right?\n",
    "\n",
    "#### 2.2.2 Correlations of categorical variables with cancellations\n",
    "\n",
    "Let's OneHot Encode the categories and IDs (for agent and company) in the next step and get their correlations with the cancellations. "
   ]
  },
  {
   "cell_type": "code",
   "execution_count": null,
   "metadata": {
    "collapsed": false,
    "jupyter": {
     "outputs_hidden": false
    },
    "pycharm": {
     "name": "#%%\n"
    }
   },
   "outputs": [],
   "source": [
    "from sklearn.preprocessing import OneHotEncoder\n",
    "\n",
    "onehot = OneHotEncoder(sparse = False)\n",
    "df_cat = df_cat.sort_index().reset_index(drop = True)\n",
    "df_cat_trans = pd.DataFrame(data = onehot.fit_transform(df_cat.drop(columns = 'is_canceled')),\n",
    "                                columns = onehot.get_feature_names_out())"
   ]
  },
  {
   "cell_type": "code",
   "execution_count": null,
   "metadata": {
    "collapsed": false,
    "jupyter": {
     "outputs_hidden": false
    },
    "pycharm": {
     "name": "#%%\n"
    }
   },
   "outputs": [],
   "source": [
    "df_cat_trans = pd.concat([df_cat.is_canceled, df_cat_trans], axis = 1 )\n"
   ]
  },
  {
   "cell_type": "markdown",
   "metadata": {},
   "source": [
    "Now we'll use this transformed dataframe of our categorical variables and find out how correlated they are with 'is_canceled'.\n",
    "\n",
    "Watch out, the next cell takes quite a while to compute. "
   ]
  },
  {
   "cell_type": "code",
   "execution_count": null,
   "metadata": {
    "collapsed": false,
    "jupyter": {
     "outputs_hidden": false
    },
    "pycharm": {
     "name": "#%%\n"
    }
   },
   "outputs": [],
   "source": [
    "df_cat_corr = df_cat_trans.corr()\n",
    "df_cat_corr = df_cat_corr['is_canceled']"
   ]
  },
  {
   "cell_type": "code",
   "execution_count": null,
   "metadata": {
    "collapsed": false,
    "jupyter": {
     "outputs_hidden": false
    },
    "pycharm": {
     "name": "#%%\n"
    }
   },
   "outputs": [],
   "source": [
    "df_cat_corr.sort_values()"
   ]
  },
  {
   "cell_type": "markdown",
   "metadata": {},
   "source": [
    "This is gives a dataframe of **xxxx** correlations with the label. Very likely, most of them will have a very low correlation with the label. Therefore, let's only look at the ones with a correlation of more than 0.05 (positive or negative)."
   ]
  },
  {
   "cell_type": "code",
   "execution_count": null,
   "metadata": {
    "collapsed": false,
    "jupyter": {
     "outputs_hidden": false
    },
    "pycharm": {
     "name": "#%%\n"
    }
   },
   "outputs": [],
   "source": [
    "df_cat_corr_red = pd.DataFrame(df_cat_corr).rename({'is_canceled' : 'correlation'}, axis = 1)\n",
    "df_cat_corr_red = df_cat_corr_red[(df_cat_corr_red['correlation'] >= 0.1 ) | (df_cat_corr_red['correlation'] <= -0.1) ]\n",
    "df_cat_corr_red.sort_values(by = 'correlation')[:-1].plot(kind = 'bar')\n",
    "plt.show()"
   ]
  },
  {
   "cell_type": "markdown",
   "metadata": {},
   "source": [
    "This gives us a good indication, that especially x2 (= 'deposit_type') is likely to have a high explanatory power. But also x1 = ('Coutnry') equalling to Portugal, x2 (= 'market_segment') equalling to Groups can be important when building the model."
   ]
  },
  {
   "cell_type": "markdown",
   "metadata": {},
   "source": [
    "### 2.3 Time Series Analysis\n",
    "In this section we are looking for underlying seasonality in the given cancelations and bookings."
   ]
  },
  {
   "cell_type": "code",
   "execution_count": null,
   "metadata": {
    "collapsed": false,
    "jupyter": {
     "outputs_hidden": false
    },
    "pycharm": {
     "name": "#%%\n"
    }
   },
   "outputs": [],
   "source": [
    "df_resort = df[df[\"hotel\"] == \"Resort Hotel\"]\n",
    "df_city = df[df[\"hotel\"] == \"City Hotel\"]\n",
    "\n",
    "#Get data for Resort Hotel\n",
    "df_timeseries_r = pd.DataFrame(df_resort.groupby(\"arrival_date_month\").size())\n",
    "df_timeseries_r[\"Cancelations\"] = df_resort.groupby(\"arrival_date_month\")[\"is_canceled\"].sum()\n",
    "df_timeseries_r.columns = ['Arrivals', 'Cancelations']\n",
    "df_timeseries_r[\"Cancelation_Share\"] = df_timeseries_r[\"Cancelations\"]/df_timeseries_r[\"Arrivals\"]\n",
    "\n",
    "#Get data for City Hotel\n",
    "df_timeseries_c = pd.DataFrame(df_city.groupby(\"arrival_date_month\").size())\n",
    "df_timeseries_c[\"Cancelations\"] = df_city.groupby(\"arrival_date_month\")[\"is_canceled\"].sum()\n",
    "df_timeseries_c.columns = ['Arrivals', 'Cancelations']\n",
    "df_timeseries_c[\"Cancelation_Share\"] = df_timeseries_c[\"Cancelations\"]/df_timeseries_c[\"Arrivals\"]\n",
    "\n",
    "#Plot linechart\n",
    "fig, ax1 = plt.subplots(figsize=(15, 8))\n",
    "\n",
    "ax1.set_xlabel(\"Month\")\n",
    "ax1.set_ylabel(\"Number of Reservations\")\n",
    "ax1.plot(\n",
    "    df_timeseries_r[\"Arrivals\"],\n",
    "    color=\"red\",\n",
    "    label=\"Arrivals (Resort)\"\n",
    ")\n",
    "\n",
    "ax1.plot(\n",
    "    df_timeseries_c[\"Arrivals\"],\n",
    "    color=\"green\",\n",
    "    label=\"Arrivals (City)\"\n",
    ")\n",
    "\n",
    "ax2 = ax1.twinx()  # instantiate a second axes that shares the same x-axis\n",
    "\n",
    "ax2.set_ylabel(\"Rate of Cancelations\")\n",
    "ax2.plot(\n",
    "    df_timeseries_r[\"Cancelation_Share\"],\n",
    "    color=\"red\",\n",
    "    linestyle=\"dashed\",\n",
    "    label=\"Rate of Cancelations (Resort)\",\n",
    ")\n",
    "\n",
    "ax2.plot(\n",
    "    df_timeseries_c[\"Cancelation_Share\"],\n",
    "    color=\"green\",\n",
    "    linestyle=\"dashed\",\n",
    "    label=\"Rate of Cancelations (City)\",\n",
    ")\n",
    "\n",
    "fig.legend(loc = 2, borderaxespad=9)"
   ]
  },
  {
   "cell_type": "markdown",
   "metadata": {},
   "source": [
    "Based on this plot, we can draw several conclusions:\n",
    "\n",
    "- Bookings and cancelation-rate differs greatly between Resort and City Hotels. With City Hotels experiencing more bookings but also more cancellations.\n",
    "- Cancellation rate follows the same patten as the number of bookings.\n",
    "- Bookings and cancellations follow a seasonal pattern."
   ]
  },
  {
   "cell_type": "markdown",
   "metadata": {
    "pycharm": {
     "name": "#%% md\n"
    }
   },
   "source": [
    "## 3. Preliminary Model Selection\n",
    "Before going deeper into feature selection, we want to understand which model is the most promising for our task. For this model, more sophisticated feature selection will be conducted. We will test 5 different models:\n",
    "1. Logistic Regression\n",
    "2. Random Forest Classifier\n",
    "3. XGBoost Classifier\n",
    "4. Support Vector Machine\n",
    "5. Artificial Neural Network\n",
    "\n",
    "### 3.1 Feature Selection Pipeline\n",
    "Before testing the models, we need to build a pipeline in which all features get transformed into a format the models can best work with. Numerical features are standard scaled. For the categorical features, dimensions with less than 5% occurrences are aggregated in a 'other' category. Subsequently, categories are one-hot-encoded. The features *booking_changes* and *deposit_type* are excluded from the feature selection due to their inadequateness depicted in *2*."
   ]
  },
  {
   "cell_type": "code",
   "execution_count": 14,
   "metadata": {
    "collapsed": false,
    "jupyter": {
     "outputs_hidden": false
    },
    "pycharm": {
     "name": "#%%\n"
    }
   },
   "outputs": [],
   "source": [
    "from sklearn.compose import ColumnTransformer\n",
    "from sklearn.pipeline import Pipeline\n",
    "from sklearn.base import BaseEstimator, TransformerMixin\n",
    "from sklearn.preprocessing import Binarizer, FunctionTransformer, StandardScaler, OneHotEncoder\n",
    "\n",
    "num_features = ['lead_time', 'adr', 'arrival_date_month', 'arrival_date_week_number', 'arrival_date_day_of_month', 'stays_in_week_nights', 'stays_in_weekend_nights', 'stay_total_nights', 'adults', 'children', 'babies', 'is_repeated_guest', 'previous_cancellations', 'previous_bookings_not_canceled', 'days_in_waiting_list', 'total_of_special_requests', 'room_changed']\n",
    "\n",
    "cat_features = ['hotel', 'meal', 'country', 'market_segment', 'distribution_channel', 'reserved_room_type', 'assigned_room_type', 'customer_type']\n",
    "\n",
    "class replace_other(TransformerMixin):\n",
    "    \"\"\"Replaces every value that accounts for less than 5% of the count of all unique\n",
    "    values in the column with 'Other'\"\"\"\n",
    "\n",
    "    def fit(self, X, y=None):\n",
    "        return self  # nothing else to do\n",
    "\n",
    "    def transform(self, df):\n",
    "        for col in df.columns:\n",
    "            counts = df[col].value_counts(normalize=True)\n",
    "            irrelevant = counts[counts < 0.05].index.tolist()\n",
    "            df[col] = df[col].apply(lambda v: 'Other' if v in irrelevant else v)\n",
    "        return df\n",
    "\n",
    "    def get_feature_names_out(self, col_names):\n",
    "        return col_names\n",
    "\n",
    "cat_selection_pipeline = Pipeline(steps=[\n",
    "    ('replace_other', replace_other()),\n",
    "    ('encoder', OneHotEncoder(sparse=False))\n",
    "])\n",
    "\n",
    "feature_selection_pipeline = ColumnTransformer(transformers=[\n",
    "    ('numeric', StandardScaler(), num_features),\n",
    "    ('categorical', cat_selection_pipeline, cat_features)\n",
    "])"
   ]
  },
  {
   "cell_type": "code",
   "execution_count": 18,
   "metadata": {
    "collapsed": false,
    "jupyter": {
     "outputs_hidden": false
    },
    "pycharm": {
     "name": "#%%\n"
    }
   },
   "outputs": [
    {
     "data": {
      "text/html": [
       "<div>\n",
       "<style scoped>\n",
       "    .dataframe tbody tr th:only-of-type {\n",
       "        vertical-align: middle;\n",
       "    }\n",
       "\n",
       "    .dataframe tbody tr th {\n",
       "        vertical-align: top;\n",
       "    }\n",
       "\n",
       "    .dataframe thead th {\n",
       "        text-align: right;\n",
       "    }\n",
       "</style>\n",
       "<table border=\"1\" class=\"dataframe\">\n",
       "  <thead>\n",
       "    <tr style=\"text-align: right;\">\n",
       "      <th></th>\n",
       "      <th>numeric__lead_time</th>\n",
       "      <th>numeric__adr</th>\n",
       "      <th>numeric__arrival_date_month</th>\n",
       "      <th>numeric__arrival_date_week_number</th>\n",
       "      <th>numeric__arrival_date_day_of_month</th>\n",
       "      <th>numeric__stays_in_week_nights</th>\n",
       "      <th>numeric__stays_in_weekend_nights</th>\n",
       "      <th>numeric__stay_total_nights</th>\n",
       "      <th>numeric__adults</th>\n",
       "      <th>numeric__children</th>\n",
       "      <th>...</th>\n",
       "      <th>categorical__reserved_room_type_D</th>\n",
       "      <th>categorical__reserved_room_type_E</th>\n",
       "      <th>categorical__reserved_room_type_Other</th>\n",
       "      <th>categorical__assigned_room_type_A</th>\n",
       "      <th>categorical__assigned_room_type_D</th>\n",
       "      <th>categorical__assigned_room_type_E</th>\n",
       "      <th>categorical__assigned_room_type_Other</th>\n",
       "      <th>categorical__customer_type_Other</th>\n",
       "      <th>categorical__customer_type_Transient</th>\n",
       "      <th>categorical__customer_type_Transient-Party</th>\n",
       "    </tr>\n",
       "  </thead>\n",
       "  <tbody>\n",
       "    <tr>\n",
       "      <th>0</th>\n",
       "      <td>2.305699</td>\n",
       "      <td>-2.063032</td>\n",
       "      <td>0.166305</td>\n",
       "      <td>0.011548</td>\n",
       "      <td>-1.687373</td>\n",
       "      <td>-1.298731</td>\n",
       "      <td>-0.913466</td>\n",
       "      <td>-1.326328</td>\n",
       "      <td>0.268544</td>\n",
       "      <td>-0.244869</td>\n",
       "      <td>...</td>\n",
       "      <td>0.0</td>\n",
       "      <td>0.0</td>\n",
       "      <td>1.0</td>\n",
       "      <td>0.0</td>\n",
       "      <td>0.0</td>\n",
       "      <td>0.0</td>\n",
       "      <td>1.0</td>\n",
       "      <td>0.0</td>\n",
       "      <td>1.0</td>\n",
       "      <td>0.0</td>\n",
       "    </tr>\n",
       "    <tr>\n",
       "      <th>1</th>\n",
       "      <td>6.070802</td>\n",
       "      <td>-2.063032</td>\n",
       "      <td>0.166305</td>\n",
       "      <td>0.011548</td>\n",
       "      <td>-1.687373</td>\n",
       "      <td>-1.298731</td>\n",
       "      <td>-0.913466</td>\n",
       "      <td>-1.326328</td>\n",
       "      <td>0.268544</td>\n",
       "      <td>-0.244869</td>\n",
       "      <td>...</td>\n",
       "      <td>0.0</td>\n",
       "      <td>0.0</td>\n",
       "      <td>1.0</td>\n",
       "      <td>0.0</td>\n",
       "      <td>0.0</td>\n",
       "      <td>0.0</td>\n",
       "      <td>1.0</td>\n",
       "      <td>0.0</td>\n",
       "      <td>1.0</td>\n",
       "      <td>0.0</td>\n",
       "    </tr>\n",
       "    <tr>\n",
       "      <th>2</th>\n",
       "      <td>-0.887489</td>\n",
       "      <td>-0.468094</td>\n",
       "      <td>0.166305</td>\n",
       "      <td>0.011548</td>\n",
       "      <td>-1.687373</td>\n",
       "      <td>-0.772025</td>\n",
       "      <td>-0.913466</td>\n",
       "      <td>-0.933439</td>\n",
       "      <td>-1.436477</td>\n",
       "      <td>-0.244869</td>\n",
       "      <td>...</td>\n",
       "      <td>0.0</td>\n",
       "      <td>0.0</td>\n",
       "      <td>0.0</td>\n",
       "      <td>0.0</td>\n",
       "      <td>0.0</td>\n",
       "      <td>0.0</td>\n",
       "      <td>1.0</td>\n",
       "      <td>0.0</td>\n",
       "      <td>1.0</td>\n",
       "      <td>0.0</td>\n",
       "    </tr>\n",
       "    <tr>\n",
       "      <th>3</th>\n",
       "      <td>-0.830298</td>\n",
       "      <td>-0.468094</td>\n",
       "      <td>0.166305</td>\n",
       "      <td>0.011548</td>\n",
       "      <td>-1.687373</td>\n",
       "      <td>-0.772025</td>\n",
       "      <td>-0.913466</td>\n",
       "      <td>-0.933439</td>\n",
       "      <td>-1.436477</td>\n",
       "      <td>-0.244869</td>\n",
       "      <td>...</td>\n",
       "      <td>0.0</td>\n",
       "      <td>0.0</td>\n",
       "      <td>0.0</td>\n",
       "      <td>1.0</td>\n",
       "      <td>0.0</td>\n",
       "      <td>0.0</td>\n",
       "      <td>0.0</td>\n",
       "      <td>0.0</td>\n",
       "      <td>1.0</td>\n",
       "      <td>0.0</td>\n",
       "    </tr>\n",
       "    <tr>\n",
       "      <th>4</th>\n",
       "      <td>-0.820766</td>\n",
       "      <td>0.021020</td>\n",
       "      <td>0.166305</td>\n",
       "      <td>0.011548</td>\n",
       "      <td>-1.687373</td>\n",
       "      <td>-0.245320</td>\n",
       "      <td>-0.913466</td>\n",
       "      <td>-0.540549</td>\n",
       "      <td>0.268544</td>\n",
       "      <td>-0.244869</td>\n",
       "      <td>...</td>\n",
       "      <td>0.0</td>\n",
       "      <td>0.0</td>\n",
       "      <td>0.0</td>\n",
       "      <td>1.0</td>\n",
       "      <td>0.0</td>\n",
       "      <td>0.0</td>\n",
       "      <td>0.0</td>\n",
       "      <td>0.0</td>\n",
       "      <td>1.0</td>\n",
       "      <td>0.0</td>\n",
       "    </tr>\n",
       "    <tr>\n",
       "      <th>...</th>\n",
       "      <td>...</td>\n",
       "      <td>...</td>\n",
       "      <td>...</td>\n",
       "      <td>...</td>\n",
       "      <td>...</td>\n",
       "      <td>...</td>\n",
       "      <td>...</td>\n",
       "      <td>...</td>\n",
       "      <td>...</td>\n",
       "      <td>...</td>\n",
       "      <td>...</td>\n",
       "      <td>...</td>\n",
       "      <td>...</td>\n",
       "      <td>...</td>\n",
       "      <td>...</td>\n",
       "      <td>...</td>\n",
       "      <td>...</td>\n",
       "      <td>...</td>\n",
       "      <td>...</td>\n",
       "      <td>...</td>\n",
       "      <td>...</td>\n",
       "    </tr>\n",
       "    <tr>\n",
       "      <th>109143</th>\n",
       "      <td>-0.544341</td>\n",
       "      <td>1.231684</td>\n",
       "      <td>-0.144738</td>\n",
       "      <td>-0.059059</td>\n",
       "      <td>1.504740</td>\n",
       "      <td>1.334798</td>\n",
       "      <td>1.094004</td>\n",
       "      <td>1.423899</td>\n",
       "      <td>1.973564</td>\n",
       "      <td>-0.244869</td>\n",
       "      <td>...</td>\n",
       "      <td>1.0</td>\n",
       "      <td>0.0</td>\n",
       "      <td>0.0</td>\n",
       "      <td>0.0</td>\n",
       "      <td>1.0</td>\n",
       "      <td>0.0</td>\n",
       "      <td>0.0</td>\n",
       "      <td>0.0</td>\n",
       "      <td>1.0</td>\n",
       "      <td>0.0</td>\n",
       "    </tr>\n",
       "    <tr>\n",
       "      <th>109144</th>\n",
       "      <td>1.381104</td>\n",
       "      <td>-0.108063</td>\n",
       "      <td>-0.144738</td>\n",
       "      <td>-0.059059</td>\n",
       "      <td>1.504740</td>\n",
       "      <td>1.334798</td>\n",
       "      <td>1.094004</td>\n",
       "      <td>1.423899</td>\n",
       "      <td>0.268544</td>\n",
       "      <td>-0.244869</td>\n",
       "      <td>...</td>\n",
       "      <td>0.0</td>\n",
       "      <td>0.0</td>\n",
       "      <td>0.0</td>\n",
       "      <td>1.0</td>\n",
       "      <td>0.0</td>\n",
       "      <td>0.0</td>\n",
       "      <td>0.0</td>\n",
       "      <td>0.0</td>\n",
       "      <td>1.0</td>\n",
       "      <td>0.0</td>\n",
       "    </tr>\n",
       "    <tr>\n",
       "      <th>109145</th>\n",
       "      <td>0.713871</td>\n",
       "      <td>-0.108063</td>\n",
       "      <td>-0.144738</td>\n",
       "      <td>-0.059059</td>\n",
       "      <td>1.504740</td>\n",
       "      <td>1.334798</td>\n",
       "      <td>1.094004</td>\n",
       "      <td>1.423899</td>\n",
       "      <td>0.268544</td>\n",
       "      <td>-0.244869</td>\n",
       "      <td>...</td>\n",
       "      <td>0.0</td>\n",
       "      <td>0.0</td>\n",
       "      <td>0.0</td>\n",
       "      <td>1.0</td>\n",
       "      <td>0.0</td>\n",
       "      <td>0.0</td>\n",
       "      <td>0.0</td>\n",
       "      <td>0.0</td>\n",
       "      <td>1.0</td>\n",
       "      <td>0.0</td>\n",
       "    </tr>\n",
       "    <tr>\n",
       "      <th>109146</th>\n",
       "      <td>0.799658</td>\n",
       "      <td>0.244524</td>\n",
       "      <td>-0.144738</td>\n",
       "      <td>-0.059059</td>\n",
       "      <td>1.618744</td>\n",
       "      <td>1.334798</td>\n",
       "      <td>1.094004</td>\n",
       "      <td>1.423899</td>\n",
       "      <td>0.268544</td>\n",
       "      <td>-0.244869</td>\n",
       "      <td>...</td>\n",
       "      <td>0.0</td>\n",
       "      <td>0.0</td>\n",
       "      <td>0.0</td>\n",
       "      <td>1.0</td>\n",
       "      <td>0.0</td>\n",
       "      <td>0.0</td>\n",
       "      <td>0.0</td>\n",
       "      <td>0.0</td>\n",
       "      <td>1.0</td>\n",
       "      <td>0.0</td>\n",
       "    </tr>\n",
       "    <tr>\n",
       "      <th>109147</th>\n",
       "      <td>0.504169</td>\n",
       "      <td>1.201487</td>\n",
       "      <td>-0.144738</td>\n",
       "      <td>-0.059059</td>\n",
       "      <td>1.618744</td>\n",
       "      <td>1.334798</td>\n",
       "      <td>1.094004</td>\n",
       "      <td>1.423899</td>\n",
       "      <td>0.268544</td>\n",
       "      <td>-0.244869</td>\n",
       "      <td>...</td>\n",
       "      <td>1.0</td>\n",
       "      <td>0.0</td>\n",
       "      <td>0.0</td>\n",
       "      <td>0.0</td>\n",
       "      <td>1.0</td>\n",
       "      <td>0.0</td>\n",
       "      <td>0.0</td>\n",
       "      <td>0.0</td>\n",
       "      <td>1.0</td>\n",
       "      <td>0.0</td>\n",
       "    </tr>\n",
       "  </tbody>\n",
       "</table>\n",
       "<p>109148 rows × 49 columns</p>\n",
       "</div>"
      ],
      "text/plain": [
       "        numeric__lead_time  numeric__adr  numeric__arrival_date_month  \\\n",
       "0                 2.305699     -2.063032                     0.166305   \n",
       "1                 6.070802     -2.063032                     0.166305   \n",
       "2                -0.887489     -0.468094                     0.166305   \n",
       "3                -0.830298     -0.468094                     0.166305   \n",
       "4                -0.820766      0.021020                     0.166305   \n",
       "...                    ...           ...                          ...   \n",
       "109143           -0.544341      1.231684                    -0.144738   \n",
       "109144            1.381104     -0.108063                    -0.144738   \n",
       "109145            0.713871     -0.108063                    -0.144738   \n",
       "109146            0.799658      0.244524                    -0.144738   \n",
       "109147            0.504169      1.201487                    -0.144738   \n",
       "\n",
       "        numeric__arrival_date_week_number  numeric__arrival_date_day_of_month  \\\n",
       "0                                0.011548                           -1.687373   \n",
       "1                                0.011548                           -1.687373   \n",
       "2                                0.011548                           -1.687373   \n",
       "3                                0.011548                           -1.687373   \n",
       "4                                0.011548                           -1.687373   \n",
       "...                                   ...                                 ...   \n",
       "109143                          -0.059059                            1.504740   \n",
       "109144                          -0.059059                            1.504740   \n",
       "109145                          -0.059059                            1.504740   \n",
       "109146                          -0.059059                            1.618744   \n",
       "109147                          -0.059059                            1.618744   \n",
       "\n",
       "        numeric__stays_in_week_nights  numeric__stays_in_weekend_nights  \\\n",
       "0                           -1.298731                         -0.913466   \n",
       "1                           -1.298731                         -0.913466   \n",
       "2                           -0.772025                         -0.913466   \n",
       "3                           -0.772025                         -0.913466   \n",
       "4                           -0.245320                         -0.913466   \n",
       "...                               ...                               ...   \n",
       "109143                       1.334798                          1.094004   \n",
       "109144                       1.334798                          1.094004   \n",
       "109145                       1.334798                          1.094004   \n",
       "109146                       1.334798                          1.094004   \n",
       "109147                       1.334798                          1.094004   \n",
       "\n",
       "        numeric__stay_total_nights  numeric__adults  numeric__children  ...  \\\n",
       "0                        -1.326328         0.268544          -0.244869  ...   \n",
       "1                        -1.326328         0.268544          -0.244869  ...   \n",
       "2                        -0.933439        -1.436477          -0.244869  ...   \n",
       "3                        -0.933439        -1.436477          -0.244869  ...   \n",
       "4                        -0.540549         0.268544          -0.244869  ...   \n",
       "...                            ...              ...                ...  ...   \n",
       "109143                    1.423899         1.973564          -0.244869  ...   \n",
       "109144                    1.423899         0.268544          -0.244869  ...   \n",
       "109145                    1.423899         0.268544          -0.244869  ...   \n",
       "109146                    1.423899         0.268544          -0.244869  ...   \n",
       "109147                    1.423899         0.268544          -0.244869  ...   \n",
       "\n",
       "        categorical__reserved_room_type_D  categorical__reserved_room_type_E  \\\n",
       "0                                     0.0                                0.0   \n",
       "1                                     0.0                                0.0   \n",
       "2                                     0.0                                0.0   \n",
       "3                                     0.0                                0.0   \n",
       "4                                     0.0                                0.0   \n",
       "...                                   ...                                ...   \n",
       "109143                                1.0                                0.0   \n",
       "109144                                0.0                                0.0   \n",
       "109145                                0.0                                0.0   \n",
       "109146                                0.0                                0.0   \n",
       "109147                                1.0                                0.0   \n",
       "\n",
       "        categorical__reserved_room_type_Other  \\\n",
       "0                                         1.0   \n",
       "1                                         1.0   \n",
       "2                                         0.0   \n",
       "3                                         0.0   \n",
       "4                                         0.0   \n",
       "...                                       ...   \n",
       "109143                                    0.0   \n",
       "109144                                    0.0   \n",
       "109145                                    0.0   \n",
       "109146                                    0.0   \n",
       "109147                                    0.0   \n",
       "\n",
       "        categorical__assigned_room_type_A  categorical__assigned_room_type_D  \\\n",
       "0                                     0.0                                0.0   \n",
       "1                                     0.0                                0.0   \n",
       "2                                     0.0                                0.0   \n",
       "3                                     1.0                                0.0   \n",
       "4                                     1.0                                0.0   \n",
       "...                                   ...                                ...   \n",
       "109143                                0.0                                1.0   \n",
       "109144                                1.0                                0.0   \n",
       "109145                                1.0                                0.0   \n",
       "109146                                1.0                                0.0   \n",
       "109147                                0.0                                1.0   \n",
       "\n",
       "        categorical__assigned_room_type_E  \\\n",
       "0                                     0.0   \n",
       "1                                     0.0   \n",
       "2                                     0.0   \n",
       "3                                     0.0   \n",
       "4                                     0.0   \n",
       "...                                   ...   \n",
       "109143                                0.0   \n",
       "109144                                0.0   \n",
       "109145                                0.0   \n",
       "109146                                0.0   \n",
       "109147                                0.0   \n",
       "\n",
       "        categorical__assigned_room_type_Other  \\\n",
       "0                                         1.0   \n",
       "1                                         1.0   \n",
       "2                                         1.0   \n",
       "3                                         0.0   \n",
       "4                                         0.0   \n",
       "...                                       ...   \n",
       "109143                                    0.0   \n",
       "109144                                    0.0   \n",
       "109145                                    0.0   \n",
       "109146                                    0.0   \n",
       "109147                                    0.0   \n",
       "\n",
       "        categorical__customer_type_Other  \\\n",
       "0                                    0.0   \n",
       "1                                    0.0   \n",
       "2                                    0.0   \n",
       "3                                    0.0   \n",
       "4                                    0.0   \n",
       "...                                  ...   \n",
       "109143                               0.0   \n",
       "109144                               0.0   \n",
       "109145                               0.0   \n",
       "109146                               0.0   \n",
       "109147                               0.0   \n",
       "\n",
       "        categorical__customer_type_Transient  \\\n",
       "0                                        1.0   \n",
       "1                                        1.0   \n",
       "2                                        1.0   \n",
       "3                                        1.0   \n",
       "4                                        1.0   \n",
       "...                                      ...   \n",
       "109143                                   1.0   \n",
       "109144                                   1.0   \n",
       "109145                                   1.0   \n",
       "109146                                   1.0   \n",
       "109147                                   1.0   \n",
       "\n",
       "        categorical__customer_type_Transient-Party  \n",
       "0                                              0.0  \n",
       "1                                              0.0  \n",
       "2                                              0.0  \n",
       "3                                              0.0  \n",
       "4                                              0.0  \n",
       "...                                            ...  \n",
       "109143                                         0.0  \n",
       "109144                                         0.0  \n",
       "109145                                         0.0  \n",
       "109146                                         0.0  \n",
       "109147                                         0.0  \n",
       "\n",
       "[109148 rows x 49 columns]"
      ]
     },
     "execution_count": 18,
     "metadata": {},
     "output_type": "execute_result"
    }
   ],
   "source": [
    "feature_selection_df = pd.DataFrame(data=feature_selection_pipeline.fit_transform(df), columns=feature_selection_pipeline.get_feature_names_out())\n",
    "feature_selection_test_df = pd.DataFrame(data=feature_selection_pipeline.transform(df_test), columns=feature_selection_pipeline.get_feature_names_out())\n",
    "feature_selection_df"
   ]
  },
  {
   "cell_type": "code",
   "execution_count": 31,
   "metadata": {
    "collapsed": false,
    "jupyter": {
     "outputs_hidden": false
    },
    "pycharm": {
     "name": "#%%\n"
    },
    "scrolled": true,
    "tags": []
   },
   "outputs": [
    {
     "ename": "ValueError",
     "evalue": "Input 0 of layer conv2d is incompatible with the layer: : expected min_ndim=4, found ndim=2. Full shape received: (None, 49)",
     "output_type": "error",
     "traceback": [
      "\u001b[0;31m---------------------------------------------------------------------------\u001b[0m",
      "\u001b[0;31mValueError\u001b[0m                                Traceback (most recent call last)",
      "Input \u001b[0;32mIn [32]\u001b[0m, in \u001b[0;36m<cell line: 7>\u001b[0;34m()\u001b[0m\n\u001b[1;32m      4\u001b[0m \u001b[38;5;66;03m# Building the ANN\u001b[39;00m\n\u001b[1;32m      5\u001b[0m model_6 \u001b[38;5;241m=\u001b[39m keras\u001b[38;5;241m.\u001b[39mmodels\u001b[38;5;241m.\u001b[39mSequential()\n\u001b[0;32m----> 7\u001b[0m \u001b[43mmodel_6\u001b[49m\u001b[38;5;241;43m.\u001b[39;49m\u001b[43madd\u001b[49m\u001b[43m(\u001b[49m\u001b[43mkeras\u001b[49m\u001b[38;5;241;43m.\u001b[39;49m\u001b[43mlayers\u001b[49m\u001b[38;5;241;43m.\u001b[39;49m\u001b[43mConv2D\u001b[49m\u001b[43m(\u001b[49m\u001b[38;5;241;43m32\u001b[39;49m\u001b[43m,\u001b[49m\u001b[43m \u001b[49m\u001b[43m(\u001b[49m\u001b[38;5;241;43m3\u001b[39;49m\u001b[43m,\u001b[49m\u001b[43m \u001b[49m\u001b[38;5;241;43m3\u001b[39;49m\u001b[43m)\u001b[49m\u001b[43m,\u001b[49m\u001b[43m \u001b[49m\u001b[43mactivation\u001b[49m\u001b[38;5;241;43m=\u001b[39;49m\u001b[38;5;124;43m'\u001b[39;49m\u001b[38;5;124;43mrelu\u001b[39;49m\u001b[38;5;124;43m'\u001b[39;49m\u001b[43m,\u001b[49m\u001b[43m \u001b[49m\u001b[43minput_shape\u001b[49m\u001b[38;5;241;43m=\u001b[39;49m\u001b[43m(\u001b[49m\u001b[38;5;241;43m49\u001b[39;49m\u001b[43m,\u001b[49m\u001b[43m)\u001b[49m\u001b[43m,\u001b[49m\u001b[43m \u001b[49m\u001b[43mpadding\u001b[49m\u001b[43m \u001b[49m\u001b[38;5;241;43m=\u001b[39;49m\u001b[43m \u001b[49m\u001b[38;5;124;43m'\u001b[39;49m\u001b[38;5;124;43msame\u001b[39;49m\u001b[38;5;124;43m'\u001b[39;49m\u001b[43m)\u001b[49m\u001b[43m)\u001b[49m\n\u001b[1;32m      8\u001b[0m model_6\u001b[38;5;241m.\u001b[39madd(keras\u001b[38;5;241m.\u001b[39mlayers\u001b[38;5;241m.\u001b[39mMaxPooling2D((\u001b[38;5;241m2\u001b[39m, \u001b[38;5;241m2\u001b[39m)))\n\u001b[1;32m      9\u001b[0m model_6\u001b[38;5;241m.\u001b[39madd(keras\u001b[38;5;241m.\u001b[39mlayers\u001b[38;5;241m.\u001b[39mConv2D(\u001b[38;5;241m64\u001b[39m, (\u001b[38;5;241m3\u001b[39m, \u001b[38;5;241m3\u001b[39m), activation\u001b[38;5;241m=\u001b[39m\u001b[38;5;124m'\u001b[39m\u001b[38;5;124mrelu\u001b[39m\u001b[38;5;124m'\u001b[39m, padding \u001b[38;5;241m=\u001b[39m \u001b[38;5;124m'\u001b[39m\u001b[38;5;124msame\u001b[39m\u001b[38;5;124m'\u001b[39m))\n",
      "File \u001b[0;32m~/miniforge3/envs/tensorflow/lib/python3.9/site-packages/tensorflow/python/training/tracking/base.py:522\u001b[0m, in \u001b[0;36mno_automatic_dependency_tracking.<locals>._method_wrapper\u001b[0;34m(self, *args, **kwargs)\u001b[0m\n\u001b[1;32m    520\u001b[0m \u001b[38;5;28mself\u001b[39m\u001b[38;5;241m.\u001b[39m_self_setattr_tracking \u001b[38;5;241m=\u001b[39m \u001b[38;5;28;01mFalse\u001b[39;00m  \u001b[38;5;66;03m# pylint: disable=protected-access\u001b[39;00m\n\u001b[1;32m    521\u001b[0m \u001b[38;5;28;01mtry\u001b[39;00m:\n\u001b[0;32m--> 522\u001b[0m   result \u001b[38;5;241m=\u001b[39m \u001b[43mmethod\u001b[49m\u001b[43m(\u001b[49m\u001b[38;5;28;43mself\u001b[39;49m\u001b[43m,\u001b[49m\u001b[43m \u001b[49m\u001b[38;5;241;43m*\u001b[39;49m\u001b[43margs\u001b[49m\u001b[43m,\u001b[49m\u001b[43m \u001b[49m\u001b[38;5;241;43m*\u001b[39;49m\u001b[38;5;241;43m*\u001b[39;49m\u001b[43mkwargs\u001b[49m\u001b[43m)\u001b[49m\n\u001b[1;32m    523\u001b[0m \u001b[38;5;28;01mfinally\u001b[39;00m:\n\u001b[1;32m    524\u001b[0m   \u001b[38;5;28mself\u001b[39m\u001b[38;5;241m.\u001b[39m_self_setattr_tracking \u001b[38;5;241m=\u001b[39m previous_value  \u001b[38;5;66;03m# pylint: disable=protected-access\u001b[39;00m\n",
      "File \u001b[0;32m~/miniforge3/envs/tensorflow/lib/python3.9/site-packages/tensorflow/python/keras/engine/sequential.py:213\u001b[0m, in \u001b[0;36mSequential.add\u001b[0;34m(self, layer)\u001b[0m\n\u001b[1;32m    208\u001b[0m     x \u001b[38;5;241m=\u001b[39m input_layer\u001b[38;5;241m.\u001b[39mInput(\n\u001b[1;32m    209\u001b[0m         batch_shape\u001b[38;5;241m=\u001b[39mbatch_shape, dtype\u001b[38;5;241m=\u001b[39mdtype, name\u001b[38;5;241m=\u001b[39mlayer\u001b[38;5;241m.\u001b[39mname \u001b[38;5;241m+\u001b[39m \u001b[38;5;124m'\u001b[39m\u001b[38;5;124m_input\u001b[39m\u001b[38;5;124m'\u001b[39m)\n\u001b[1;32m    210\u001b[0m     \u001b[38;5;66;03m# This will build the current layer\u001b[39;00m\n\u001b[1;32m    211\u001b[0m     \u001b[38;5;66;03m# and create the node connecting the current layer\u001b[39;00m\n\u001b[1;32m    212\u001b[0m     \u001b[38;5;66;03m# to the input layer we just created.\u001b[39;00m\n\u001b[0;32m--> 213\u001b[0m     \u001b[43mlayer\u001b[49m\u001b[43m(\u001b[49m\u001b[43mx\u001b[49m\u001b[43m)\u001b[49m\n\u001b[1;32m    214\u001b[0m     set_inputs \u001b[38;5;241m=\u001b[39m \u001b[38;5;28;01mTrue\u001b[39;00m\n\u001b[1;32m    216\u001b[0m \u001b[38;5;28;01mif\u001b[39;00m set_inputs:\n",
      "File \u001b[0;32m~/miniforge3/envs/tensorflow/lib/python3.9/site-packages/tensorflow/python/keras/engine/base_layer.py:969\u001b[0m, in \u001b[0;36mLayer.__call__\u001b[0;34m(self, *args, **kwargs)\u001b[0m\n\u001b[1;32m    963\u001b[0m \u001b[38;5;66;03m# Functional Model construction mode is invoked when `Layer`s are called on\u001b[39;00m\n\u001b[1;32m    964\u001b[0m \u001b[38;5;66;03m# symbolic `KerasTensor`s, i.e.:\u001b[39;00m\n\u001b[1;32m    965\u001b[0m \u001b[38;5;66;03m# >> inputs = tf.keras.Input(10)\u001b[39;00m\n\u001b[1;32m    966\u001b[0m \u001b[38;5;66;03m# >> outputs = MyLayer()(inputs)  # Functional construction mode.\u001b[39;00m\n\u001b[1;32m    967\u001b[0m \u001b[38;5;66;03m# >> model = tf.keras.Model(inputs, outputs)\u001b[39;00m\n\u001b[1;32m    968\u001b[0m \u001b[38;5;28;01mif\u001b[39;00m _in_functional_construction_mode(\u001b[38;5;28mself\u001b[39m, inputs, args, kwargs, input_list):\n\u001b[0;32m--> 969\u001b[0m   \u001b[38;5;28;01mreturn\u001b[39;00m \u001b[38;5;28;43mself\u001b[39;49m\u001b[38;5;241;43m.\u001b[39;49m\u001b[43m_functional_construction_call\u001b[49m\u001b[43m(\u001b[49m\u001b[43minputs\u001b[49m\u001b[43m,\u001b[49m\u001b[43m \u001b[49m\u001b[43margs\u001b[49m\u001b[43m,\u001b[49m\u001b[43m \u001b[49m\u001b[43mkwargs\u001b[49m\u001b[43m,\u001b[49m\n\u001b[1;32m    970\u001b[0m \u001b[43m                                            \u001b[49m\u001b[43minput_list\u001b[49m\u001b[43m)\u001b[49m\n\u001b[1;32m    972\u001b[0m \u001b[38;5;66;03m# Maintains info about the `Layer.call` stack.\u001b[39;00m\n\u001b[1;32m    973\u001b[0m call_context \u001b[38;5;241m=\u001b[39m base_layer_utils\u001b[38;5;241m.\u001b[39mcall_context()\n",
      "File \u001b[0;32m~/miniforge3/envs/tensorflow/lib/python3.9/site-packages/tensorflow/python/keras/engine/base_layer.py:1107\u001b[0m, in \u001b[0;36mLayer._functional_construction_call\u001b[0;34m(self, inputs, args, kwargs, input_list)\u001b[0m\n\u001b[1;32m   1102\u001b[0m     training_arg_passed_by_framework \u001b[38;5;241m=\u001b[39m \u001b[38;5;28;01mTrue\u001b[39;00m\n\u001b[1;32m   1104\u001b[0m \u001b[38;5;28;01mwith\u001b[39;00m call_context\u001b[38;5;241m.\u001b[39menter(\n\u001b[1;32m   1105\u001b[0m     layer\u001b[38;5;241m=\u001b[39m\u001b[38;5;28mself\u001b[39m, inputs\u001b[38;5;241m=\u001b[39minputs, build_graph\u001b[38;5;241m=\u001b[39m\u001b[38;5;28;01mTrue\u001b[39;00m, training\u001b[38;5;241m=\u001b[39mtraining_value):\n\u001b[1;32m   1106\u001b[0m   \u001b[38;5;66;03m# Check input assumptions set after layer building, e.g. input shape.\u001b[39;00m\n\u001b[0;32m-> 1107\u001b[0m   outputs \u001b[38;5;241m=\u001b[39m \u001b[38;5;28;43mself\u001b[39;49m\u001b[38;5;241;43m.\u001b[39;49m\u001b[43m_keras_tensor_symbolic_call\u001b[49m\u001b[43m(\u001b[49m\n\u001b[1;32m   1108\u001b[0m \u001b[43m      \u001b[49m\u001b[43minputs\u001b[49m\u001b[43m,\u001b[49m\u001b[43m \u001b[49m\u001b[43minput_masks\u001b[49m\u001b[43m,\u001b[49m\u001b[43m \u001b[49m\u001b[43margs\u001b[49m\u001b[43m,\u001b[49m\u001b[43m \u001b[49m\u001b[43mkwargs\u001b[49m\u001b[43m)\u001b[49m\n\u001b[1;32m   1110\u001b[0m   \u001b[38;5;28;01mif\u001b[39;00m outputs \u001b[38;5;129;01mis\u001b[39;00m \u001b[38;5;28;01mNone\u001b[39;00m:\n\u001b[1;32m   1111\u001b[0m     \u001b[38;5;28;01mraise\u001b[39;00m \u001b[38;5;167;01mValueError\u001b[39;00m(\u001b[38;5;124m'\u001b[39m\u001b[38;5;124mA layer\u001b[39m\u001b[38;5;130;01m\\'\u001b[39;00m\u001b[38;5;124ms `call` method should return a \u001b[39m\u001b[38;5;124m'\u001b[39m\n\u001b[1;32m   1112\u001b[0m                      \u001b[38;5;124m'\u001b[39m\u001b[38;5;124mTensor or a list of Tensors, not None \u001b[39m\u001b[38;5;124m'\u001b[39m\n\u001b[1;32m   1113\u001b[0m                      \u001b[38;5;124m'\u001b[39m\u001b[38;5;124m(layer: \u001b[39m\u001b[38;5;124m'\u001b[39m \u001b[38;5;241m+\u001b[39m \u001b[38;5;28mself\u001b[39m\u001b[38;5;241m.\u001b[39mname \u001b[38;5;241m+\u001b[39m \u001b[38;5;124m'\u001b[39m\u001b[38;5;124m).\u001b[39m\u001b[38;5;124m'\u001b[39m)\n",
      "File \u001b[0;32m~/miniforge3/envs/tensorflow/lib/python3.9/site-packages/tensorflow/python/keras/engine/base_layer.py:840\u001b[0m, in \u001b[0;36mLayer._keras_tensor_symbolic_call\u001b[0;34m(self, inputs, input_masks, args, kwargs)\u001b[0m\n\u001b[1;32m    838\u001b[0m   \u001b[38;5;28;01mreturn\u001b[39;00m nest\u001b[38;5;241m.\u001b[39mmap_structure(keras_tensor\u001b[38;5;241m.\u001b[39mKerasTensor, output_signature)\n\u001b[1;32m    839\u001b[0m \u001b[38;5;28;01melse\u001b[39;00m:\n\u001b[0;32m--> 840\u001b[0m   \u001b[38;5;28;01mreturn\u001b[39;00m \u001b[38;5;28;43mself\u001b[39;49m\u001b[38;5;241;43m.\u001b[39;49m\u001b[43m_infer_output_signature\u001b[49m\u001b[43m(\u001b[49m\u001b[43minputs\u001b[49m\u001b[43m,\u001b[49m\u001b[43m \u001b[49m\u001b[43margs\u001b[49m\u001b[43m,\u001b[49m\u001b[43m \u001b[49m\u001b[43mkwargs\u001b[49m\u001b[43m,\u001b[49m\u001b[43m \u001b[49m\u001b[43minput_masks\u001b[49m\u001b[43m)\u001b[49m\n",
      "File \u001b[0;32m~/miniforge3/envs/tensorflow/lib/python3.9/site-packages/tensorflow/python/keras/engine/base_layer.py:878\u001b[0m, in \u001b[0;36mLayer._infer_output_signature\u001b[0;34m(self, inputs, args, kwargs, input_masks)\u001b[0m\n\u001b[1;32m    872\u001b[0m \u001b[38;5;28;01mwith\u001b[39;00m backend\u001b[38;5;241m.\u001b[39mname_scope(\u001b[38;5;28mself\u001b[39m\u001b[38;5;241m.\u001b[39m_name_scope()):\n\u001b[1;32m    873\u001b[0m   \u001b[38;5;28;01mwith\u001b[39;00m autocast_variable\u001b[38;5;241m.\u001b[39menable_auto_cast_variables(\n\u001b[1;32m    874\u001b[0m       \u001b[38;5;28mself\u001b[39m\u001b[38;5;241m.\u001b[39m_compute_dtype_object):\n\u001b[1;32m    875\u001b[0m     \u001b[38;5;66;03m# Build layer if applicable (if the `build` method has been\u001b[39;00m\n\u001b[1;32m    876\u001b[0m     \u001b[38;5;66;03m# overridden).\u001b[39;00m\n\u001b[1;32m    877\u001b[0m     \u001b[38;5;66;03m# TODO(kaftan): do we maybe_build here, or have we already done it?\u001b[39;00m\n\u001b[0;32m--> 878\u001b[0m     \u001b[38;5;28;43mself\u001b[39;49m\u001b[38;5;241;43m.\u001b[39;49m\u001b[43m_maybe_build\u001b[49m\u001b[43m(\u001b[49m\u001b[43minputs\u001b[49m\u001b[43m)\u001b[49m\n\u001b[1;32m    879\u001b[0m     inputs \u001b[38;5;241m=\u001b[39m \u001b[38;5;28mself\u001b[39m\u001b[38;5;241m.\u001b[39m_maybe_cast_inputs(inputs)\n\u001b[1;32m    880\u001b[0m     outputs \u001b[38;5;241m=\u001b[39m call_fn(inputs, \u001b[38;5;241m*\u001b[39margs, \u001b[38;5;241m*\u001b[39m\u001b[38;5;241m*\u001b[39mkwargs)\n",
      "File \u001b[0;32m~/miniforge3/envs/tensorflow/lib/python3.9/site-packages/tensorflow/python/keras/engine/base_layer.py:2599\u001b[0m, in \u001b[0;36mLayer._maybe_build\u001b[0;34m(self, inputs)\u001b[0m\n\u001b[1;32m   2596\u001b[0m \u001b[38;5;28;01mdef\u001b[39;00m \u001b[38;5;21m_maybe_build\u001b[39m(\u001b[38;5;28mself\u001b[39m, inputs):\n\u001b[1;32m   2597\u001b[0m   \u001b[38;5;66;03m# Check input assumptions set before layer building, e.g. input rank.\u001b[39;00m\n\u001b[1;32m   2598\u001b[0m   \u001b[38;5;28;01mif\u001b[39;00m \u001b[38;5;129;01mnot\u001b[39;00m \u001b[38;5;28mself\u001b[39m\u001b[38;5;241m.\u001b[39mbuilt:\n\u001b[0;32m-> 2599\u001b[0m     \u001b[43minput_spec\u001b[49m\u001b[38;5;241;43m.\u001b[39;49m\u001b[43massert_input_compatibility\u001b[49m\u001b[43m(\u001b[49m\n\u001b[1;32m   2600\u001b[0m \u001b[43m        \u001b[49m\u001b[38;5;28;43mself\u001b[39;49m\u001b[38;5;241;43m.\u001b[39;49m\u001b[43minput_spec\u001b[49m\u001b[43m,\u001b[49m\u001b[43m \u001b[49m\u001b[43minputs\u001b[49m\u001b[43m,\u001b[49m\u001b[43m \u001b[49m\u001b[38;5;28;43mself\u001b[39;49m\u001b[38;5;241;43m.\u001b[39;49m\u001b[43mname\u001b[49m\u001b[43m)\u001b[49m\n\u001b[1;32m   2601\u001b[0m     input_list \u001b[38;5;241m=\u001b[39m nest\u001b[38;5;241m.\u001b[39mflatten(inputs)\n\u001b[1;32m   2602\u001b[0m     \u001b[38;5;28;01mif\u001b[39;00m input_list \u001b[38;5;129;01mand\u001b[39;00m \u001b[38;5;28mself\u001b[39m\u001b[38;5;241m.\u001b[39m_dtype_policy\u001b[38;5;241m.\u001b[39mcompute_dtype \u001b[38;5;129;01mis\u001b[39;00m \u001b[38;5;28;01mNone\u001b[39;00m:\n",
      "File \u001b[0;32m~/miniforge3/envs/tensorflow/lib/python3.9/site-packages/tensorflow/python/keras/engine/input_spec.py:230\u001b[0m, in \u001b[0;36massert_input_compatibility\u001b[0;34m(input_spec, inputs, layer_name)\u001b[0m\n\u001b[1;32m    228\u001b[0m   ndim \u001b[38;5;241m=\u001b[39m x\u001b[38;5;241m.\u001b[39mshape\u001b[38;5;241m.\u001b[39mrank\n\u001b[1;32m    229\u001b[0m   \u001b[38;5;28;01mif\u001b[39;00m ndim \u001b[38;5;129;01mis\u001b[39;00m \u001b[38;5;129;01mnot\u001b[39;00m \u001b[38;5;28;01mNone\u001b[39;00m \u001b[38;5;129;01mand\u001b[39;00m ndim \u001b[38;5;241m<\u001b[39m spec\u001b[38;5;241m.\u001b[39mmin_ndim:\n\u001b[0;32m--> 230\u001b[0m     \u001b[38;5;28;01mraise\u001b[39;00m \u001b[38;5;167;01mValueError\u001b[39;00m(\u001b[38;5;124m'\u001b[39m\u001b[38;5;124mInput \u001b[39m\u001b[38;5;124m'\u001b[39m \u001b[38;5;241m+\u001b[39m \u001b[38;5;28mstr\u001b[39m(input_index) \u001b[38;5;241m+\u001b[39m \u001b[38;5;124m'\u001b[39m\u001b[38;5;124m of layer \u001b[39m\u001b[38;5;124m'\u001b[39m \u001b[38;5;241m+\u001b[39m\n\u001b[1;32m    231\u001b[0m                      layer_name \u001b[38;5;241m+\u001b[39m \u001b[38;5;124m'\u001b[39m\u001b[38;5;124m is incompatible with the layer: \u001b[39m\u001b[38;5;124m'\u001b[39m\n\u001b[1;32m    232\u001b[0m                      \u001b[38;5;124m'\u001b[39m\u001b[38;5;124m: expected min_ndim=\u001b[39m\u001b[38;5;124m'\u001b[39m \u001b[38;5;241m+\u001b[39m \u001b[38;5;28mstr\u001b[39m(spec\u001b[38;5;241m.\u001b[39mmin_ndim) \u001b[38;5;241m+\u001b[39m\n\u001b[1;32m    233\u001b[0m                      \u001b[38;5;124m'\u001b[39m\u001b[38;5;124m, found ndim=\u001b[39m\u001b[38;5;124m'\u001b[39m \u001b[38;5;241m+\u001b[39m \u001b[38;5;28mstr\u001b[39m(ndim) \u001b[38;5;241m+\u001b[39m\n\u001b[1;32m    234\u001b[0m                      \u001b[38;5;124m'\u001b[39m\u001b[38;5;124m. Full shape received: \u001b[39m\u001b[38;5;124m'\u001b[39m \u001b[38;5;241m+\u001b[39m\n\u001b[1;32m    235\u001b[0m                      \u001b[38;5;28mstr\u001b[39m(\u001b[38;5;28mtuple\u001b[39m(shape)))\n\u001b[1;32m    236\u001b[0m \u001b[38;5;66;03m# Check dtype.\u001b[39;00m\n\u001b[1;32m    237\u001b[0m \u001b[38;5;28;01mif\u001b[39;00m spec\u001b[38;5;241m.\u001b[39mdtype \u001b[38;5;129;01mis\u001b[39;00m \u001b[38;5;129;01mnot\u001b[39;00m \u001b[38;5;28;01mNone\u001b[39;00m:\n",
      "\u001b[0;31mValueError\u001b[0m: Input 0 of layer conv2d is incompatible with the layer: : expected min_ndim=4, found ndim=2. Full shape received: (None, 49)"
     ]
    }
   ],
   "source": [
    "import tensorflow as tf\n",
    "import tensorflow.keras as keras\n",
    "\n",
    "# Building the ANN\n",
    "model = keras.Sequential()\n",
    "model.add(keras.Input(shape=(49,)))\n",
    "model.add(keras.layers.Dense(units=260, activation='relu'))\n",
    "model.add(keras.layers.Dense(units=140, activation='relu'))\n",
    "model.add(keras.layers.Dense(2, activation=\"softmax\"))\n",
    "\n",
    "model.compile(optimizer = keras.optimizers.Adam(learning_rate=0.001),\n",
    "            loss = keras.losses.SparseCategoricalCrossentropy(),\n",
    "            metrics = ['accuracy'])\n",
    "\n",
    "# Retrieving the features, based on most important features from RFE of all other models\n",
    "X_train_model = feature_selection_df\n",
    "y_train_model = df['is_canceled']\n",
    "X_test_model = feature_selection_test_df\n",
    "y_test_model = df_test['is_canceled']\n",
    "\n",
    "# Training the model\n",
    "history = model.fit(X_train_model.astype('float32'),\n",
    "                    y_train_model.astype('float32'),\n",
    "                    epochs=20,\n",
    "                    validation_split=0.2,\n",
    "                    batch_size = 128)"
   ]
  },
  {
   "cell_type": "markdown",
   "metadata": {},
   "source": [
    "### 3.2 Recursive Feature Elimination\n",
    "As we can see, the resulting number of features is 49. This number might be too high for some models. In order to best compare them, we'll eliminate the unimportant features so that for each model only the top 15 are left. An exception form the SVM and ANN. Here, since feature reduction is less straight forward than for the other models, we take the top 15 features that appear most times within the other models."
   ]
  },
  {
   "cell_type": "code",
   "execution_count": 16,
   "metadata": {
    "collapsed": false,
    "jupyter": {
     "outputs_hidden": false
    },
    "pycharm": {
     "name": "#%%\n"
    },
    "scrolled": true,
    "tags": []
   },
   "outputs": [
    {
     "name": "stderr",
     "output_type": "stream",
     "text": [
      "/Users/patrickgundlach/miniforge3/envs/tensorflow/lib/python3.9/site-packages/sklearn/linear_model/_logistic.py:814: ConvergenceWarning: lbfgs failed to converge (status=1):\n",
      "STOP: TOTAL NO. of ITERATIONS REACHED LIMIT.\n",
      "\n",
      "Increase the number of iterations (max_iter) or scale the data as shown in:\n",
      "    https://scikit-learn.org/stable/modules/preprocessing.html\n",
      "Please also refer to the documentation for alternative solver options:\n",
      "    https://scikit-learn.org/stable/modules/linear_model.html#logistic-regression\n",
      "  n_iter_i = _check_optimize_result(\n",
      "/Users/patrickgundlach/miniforge3/envs/tensorflow/lib/python3.9/site-packages/sklearn/linear_model/_logistic.py:814: ConvergenceWarning: lbfgs failed to converge (status=1):\n",
      "STOP: TOTAL NO. of ITERATIONS REACHED LIMIT.\n",
      "\n",
      "Increase the number of iterations (max_iter) or scale the data as shown in:\n",
      "    https://scikit-learn.org/stable/modules/preprocessing.html\n",
      "Please also refer to the documentation for alternative solver options:\n",
      "    https://scikit-learn.org/stable/modules/linear_model.html#logistic-regression\n",
      "  n_iter_i = _check_optimize_result(\n"
     ]
    },
    {
     "name": "stdout",
     "output_type": "stream",
     "text": [
      "[11:53:40] WARNING: /Users/runner/miniforge3/conda-bld/xgboost-split_1645117899018/work/src/learner.cc:1115: Starting in XGBoost 1.3.0, the default evaluation metric used with the objective 'binary:logistic' was changed from 'error' to 'logloss'. Explicitly set eval_metric if you'd like to restore the old behavior.\n",
      "[11:53:45] WARNING: /Users/runner/miniforge3/conda-bld/xgboost-split_1645117899018/work/src/learner.cc:1115: Starting in XGBoost 1.3.0, the default evaluation metric used with the objective 'binary:logistic' was changed from 'error' to 'logloss'. Explicitly set eval_metric if you'd like to restore the old behavior.\n",
      "[11:53:48] WARNING: /Users/runner/miniforge3/conda-bld/xgboost-split_1645117899018/work/src/learner.cc:1115: Starting in XGBoost 1.3.0, the default evaluation metric used with the objective 'binary:logistic' was changed from 'error' to 'logloss'. Explicitly set eval_metric if you'd like to restore the old behavior.\n",
      "[11:53:52] WARNING: /Users/runner/miniforge3/conda-bld/xgboost-split_1645117899018/work/src/learner.cc:1115: Starting in XGBoost 1.3.0, the default evaluation metric used with the objective 'binary:logistic' was changed from 'error' to 'logloss'. Explicitly set eval_metric if you'd like to restore the old behavior.\n",
      "[11:53:55] WARNING: /Users/runner/miniforge3/conda-bld/xgboost-split_1645117899018/work/src/learner.cc:1115: Starting in XGBoost 1.3.0, the default evaluation metric used with the objective 'binary:logistic' was changed from 'error' to 'logloss'. Explicitly set eval_metric if you'd like to restore the old behavior.\n"
     ]
    },
    {
     "data": {
      "text/plain": [
       "{'Logistic Regression': ['numeric__lead_time',\n",
       "  'numeric__arrival_date_month',\n",
       "  'numeric__arrival_date_week_number',\n",
       "  'numeric__previous_cancellations',\n",
       "  'numeric__previous_bookings_not_canceled',\n",
       "  'numeric__total_of_special_requests',\n",
       "  'numeric__room_changed',\n",
       "  'categorical__country_DEU',\n",
       "  'categorical__country_PRT',\n",
       "  'categorical__market_segment_Direct',\n",
       "  'categorical__market_segment_Groups',\n",
       "  'categorical__market_segment_Online TA',\n",
       "  'categorical__distribution_channel_Other',\n",
       "  'categorical__reserved_room_type_Other',\n",
       "  'categorical__customer_type_Transient'],\n",
       " 'Random Forest Classifier': ['numeric__lead_time',\n",
       "  'numeric__adr',\n",
       "  'numeric__arrival_date_month',\n",
       "  'numeric__arrival_date_week_number',\n",
       "  'numeric__arrival_date_day_of_month',\n",
       "  'numeric__stays_in_week_nights',\n",
       "  'numeric__stay_total_nights',\n",
       "  'numeric__previous_cancellations',\n",
       "  'numeric__total_of_special_requests',\n",
       "  'numeric__room_changed',\n",
       "  'categorical__country_PRT',\n",
       "  'categorical__market_segment_Groups',\n",
       "  'categorical__market_segment_Online TA',\n",
       "  'categorical__distribution_channel_TA/TO',\n",
       "  'categorical__customer_type_Transient'],\n",
       " 'XGBoost Classifier': ['numeric__lead_time',\n",
       "  'numeric__previous_cancellations',\n",
       "  'numeric__previous_bookings_not_canceled',\n",
       "  'numeric__total_of_special_requests',\n",
       "  'numeric__room_changed',\n",
       "  'categorical__country_DEU',\n",
       "  'categorical__country_PRT',\n",
       "  'categorical__market_segment_Direct',\n",
       "  'categorical__market_segment_Groups',\n",
       "  'categorical__market_segment_Offline TA/TO',\n",
       "  'categorical__market_segment_Online TA',\n",
       "  'categorical__distribution_channel_Direct',\n",
       "  'categorical__customer_type_Other',\n",
       "  'categorical__customer_type_Transient',\n",
       "  'categorical__customer_type_Transient-Party'],\n",
       " 'Highest Frequency': ['numeric__lead_time',\n",
       "  'categorical__market_segment_Groups',\n",
       "  'categorical__customer_type_Transient',\n",
       "  'numeric__previous_cancellations',\n",
       "  'numeric__total_of_special_requests',\n",
       "  'numeric__room_changed',\n",
       "  'categorical__market_segment_Online TA',\n",
       "  'categorical__country_PRT',\n",
       "  'numeric__arrival_date_month',\n",
       "  'categorical__market_segment_Direct',\n",
       "  'categorical__country_DEU',\n",
       "  'numeric__previous_bookings_not_canceled',\n",
       "  'numeric__arrival_date_week_number',\n",
       "  'numeric__stay_total_nights',\n",
       "  'categorical__customer_type_Other']}"
      ]
     },
     "execution_count": 16,
     "metadata": {},
     "output_type": "execute_result"
    }
   ],
   "source": [
    "from sklearn.feature_selection import RFE\n",
    "from sklearn.ensemble import RandomForestClassifier, VotingClassifier\n",
    "from sklearn.linear_model import LogisticRegression\n",
    "from sklearn.svm import SVC\n",
    "from xgboost import XGBClassifier\n",
    "from typing import Dict, List\n",
    "\n",
    "top_features: Dict[str, List[str]] = {}\n",
    "\n",
    "estimators: Dict[str, dict] = {\n",
    "    'Logistic Regression': {'model': LogisticRegression(max_iter=300),\n",
    "                            'rfe_possible': True},\n",
    "    'Random Forest Classifier': {'model': RandomForestClassifier(),\n",
    "                                 'rfe_possible': True},\n",
    "    'XGBoost Classifier': {'model': XGBClassifier(objective='binary:logistic', use_label_encoder=False),\n",
    "                           'rfe_possible': True},\n",
    "    'SVM': {'model': SVC(probability=True),\n",
    "            'rfe_possible': False}\n",
    "}  # Artificial Neural Network will be considered separately under 3.3.2\n",
    "\n",
    "for estimator in estimators:\n",
    "    if not estimators[estimator]['rfe_possible']:\n",
    "        continue\n",
    "    else:\n",
    "        estimator_model = estimators[estimator]['model']\n",
    "        selector = RFE(estimator_model, n_features_to_select=15, step=10)\n",
    "        selector.fit(feature_selection_df, df['is_canceled'])\n",
    "        top_features[estimator] = feature_selection_df.columns[selector.support_].tolist()\n",
    "\n",
    "all_top_features = [e for l in [top_features[estimator] for estimator in top_features] for e in l]\n",
    "top_features['Highest Frequency'] = pd.Series(all_top_features).value_counts().iloc[:15].index.tolist()\n",
    "top_features"
   ]
  },
  {
   "cell_type": "markdown",
   "metadata": {},
   "source": [
    "### 3.3 Model Performances\n",
    "With only the top 15 features left, we can now better compare the performances of the different models.\n",
    "\n",
    "In order to compare model performances, we define some standard functions we can apply. These functions will be used throughout the remainder of the notebook."
   ]
  },
  {
   "cell_type": "markdown",
   "metadata": {},
   "source": [
    "#### 3.3.1 Logistic Regression, Random Forest, GXBoost & SVM"
   ]
  },
  {
   "cell_type": "code",
   "execution_count": 19,
   "metadata": {
    "collapsed": false,
    "jupyter": {
     "outputs_hidden": false
    },
    "pycharm": {
     "name": "#%%\n"
    }
   },
   "outputs": [
    {
     "name": "stderr",
     "output_type": "stream",
     "text": [
      "/Users/patrickgundlach/miniforge3/envs/tensorflow/lib/python3.9/site-packages/xgboost/data.py:262: FutureWarning: pandas.Int64Index is deprecated and will be removed from pandas in a future version. Use pandas.Index with the appropriate dtype instead.\n",
      "  elif isinstance(data.columns, (pd.Int64Index, pd.RangeIndex)):\n"
     ]
    },
    {
     "name": "stdout",
     "output_type": "stream",
     "text": [
      "[11:57:58] WARNING: /Users/runner/miniforge3/conda-bld/xgboost-split_1645117899018/work/src/learner.cc:1115: Starting in XGBoost 1.3.0, the default evaluation metric used with the objective 'binary:logistic' was changed from 'error' to 'logloss'. Explicitly set eval_metric if you'd like to restore the old behavior.\n"
     ]
    },
    {
     "data": {
      "text/html": [
       "<div>\n",
       "<style scoped>\n",
       "    .dataframe tbody tr th:only-of-type {\n",
       "        vertical-align: middle;\n",
       "    }\n",
       "\n",
       "    .dataframe tbody tr th {\n",
       "        vertical-align: top;\n",
       "    }\n",
       "\n",
       "    .dataframe thead th {\n",
       "        text-align: right;\n",
       "    }\n",
       "</style>\n",
       "<table border=\"1\" class=\"dataframe\">\n",
       "  <thead>\n",
       "    <tr style=\"text-align: right;\">\n",
       "      <th></th>\n",
       "      <th>Logistic Regression</th>\n",
       "      <th>Random Forest Classifier</th>\n",
       "      <th>XGBoost Classifier</th>\n",
       "      <th>SVM</th>\n",
       "    </tr>\n",
       "  </thead>\n",
       "  <tbody>\n",
       "    <tr>\n",
       "      <th>Accuracy</th>\n",
       "      <td>0.7374</td>\n",
       "      <td>0.7114</td>\n",
       "      <td>0.7372</td>\n",
       "      <td>0.7304</td>\n",
       "    </tr>\n",
       "    <tr>\n",
       "      <th>Precision</th>\n",
       "      <td>0.6766</td>\n",
       "      <td>0.6683</td>\n",
       "      <td>0.6710</td>\n",
       "      <td>0.6813</td>\n",
       "    </tr>\n",
       "    <tr>\n",
       "      <th>Recall</th>\n",
       "      <td>0.5600</td>\n",
       "      <td>0.4416</td>\n",
       "      <td>0.5726</td>\n",
       "      <td>0.5142</td>\n",
       "    </tr>\n",
       "    <tr>\n",
       "      <th>F1 Score</th>\n",
       "      <td>0.6128</td>\n",
       "      <td>0.5318</td>\n",
       "      <td>0.6179</td>\n",
       "      <td>0.5861</td>\n",
       "    </tr>\n",
       "  </tbody>\n",
       "</table>\n",
       "</div>"
      ],
      "text/plain": [
       "           Logistic Regression  Random Forest Classifier  XGBoost Classifier  \\\n",
       "Accuracy                0.7374                    0.7114              0.7372   \n",
       "Precision               0.6766                    0.6683              0.6710   \n",
       "Recall                  0.5600                    0.4416              0.5726   \n",
       "F1 Score                0.6128                    0.5318              0.6179   \n",
       "\n",
       "              SVM  \n",
       "Accuracy   0.7304  \n",
       "Precision  0.6813  \n",
       "Recall     0.5142  \n",
       "F1 Score   0.5861  "
      ]
     },
     "execution_count": 19,
     "metadata": {},
     "output_type": "execute_result"
    }
   ],
   "source": [
    "from sklearn.metrics import recall_score, precision_score, accuracy_score, f1_score\n",
    "\n",
    "metrics = ['Accuracy', 'Precision', 'Recall', 'F1 Score']\n",
    "comparison_df = pd.DataFrame(index=metrics)\n",
    "fitted_models = []  # used for roc curve plot later\n",
    "X_test_sets = [] # used for roc curve plot later\n",
    "\n",
    "for model_name in estimators:\n",
    "    \"\"\"\n",
    "    if model == ann:\n",
    "        pred_proba = ann.predict(X_test.astype('float32'))[:,1]\n",
    "        model_pred = np.where(pred_proba > 0.5, 1,0)\n",
    "\n",
    "    else:\n",
    "        model_pred = model.predict(X_test)\n",
    "    \"\"\"\n",
    "    model_features = top_features[model_name] if estimators[model_name]['rfe_possible'] else top_features['Highest Frequency']\n",
    "    model = estimators[model_name]['model']\n",
    "    X_train_model = feature_selection_df[model_features]\n",
    "    y_train_model = df['is_canceled']\n",
    "    X_test_model = feature_selection_test_df[model_features]\n",
    "    y_test_model = df_test['is_canceled']\n",
    "\n",
    "    model.fit(X_train_model, y_train_model)\n",
    "    model_pred = model.predict(X_test_model)\n",
    "\n",
    "    accuracy = round(accuracy_score(y_test_model, model_pred), 4)\n",
    "    recall = round(recall_score(y_test_model, model_pred), 4)\n",
    "    precision = round(precision_score(y_test_model, model_pred), 4)\n",
    "    f1 = round(f1_score(y_test_model, model_pred), 4)\n",
    "\n",
    "    model_statistics = pd.DataFrame(index=metrics, data=[accuracy, precision, recall, f1], columns=[model_name])\n",
    "    comparison_df = comparison_df.join(model_statistics)\n",
    "\n",
    "    fitted_models.append(model)\n",
    "    X_test_sets.append(X_test_model)\n",
    "comparison_df"
   ]
  },
  {
   "cell_type": "markdown",
   "metadata": {},
   "source": [
    "#### 3.3.2 Artificial Neural Network\n",
    "In addition to \"normal\" machine learning models, we also want to try an Artificial Neural Network. Since the process of training and predicting is different, in the following we will compute relevant metrics and append them to the previously computed."
   ]
  },
  {
   "cell_type": "code",
   "execution_count": 20,
   "metadata": {
    "collapsed": false,
    "jupyter": {
     "outputs_hidden": false
    },
    "pycharm": {
     "name": "#%%\n"
    },
    "scrolled": true,
    "tags": []
   },
   "outputs": [
    {
     "name": "stdout",
     "output_type": "stream",
     "text": [
      "Init Plugin\n",
      "Init Graph Optimizer\n",
      "Init Kernel\n",
      "Metal device set to: Apple M1\n",
      "WARNING:tensorflow:Please add `keras.layers.InputLayer` instead of `keras.Input` to Sequential model. `keras.Input` is intended to be used by Functional model.\n"
     ]
    },
    {
     "name": "stderr",
     "output_type": "stream",
     "text": [
      "2022-05-06 12:18:10.357389: I tensorflow/core/common_runtime/pluggable_device/pluggable_device_factory.cc:305] Could not identify NUMA node of platform GPU ID 0, defaulting to 0. Your kernel may not have been built with NUMA support.\n",
      "2022-05-06 12:18:10.357528: I tensorflow/core/common_runtime/pluggable_device/pluggable_device_factory.cc:271] Created TensorFlow device (/job:localhost/replica:0/task:0/device:GPU:0 with 0 MB memory) -> physical PluggableDevice (device: 0, name: METAL, pci bus id: <undefined>)\n",
      "2022-05-06 12:18:10.989125: I tensorflow/compiler/mlir/mlir_graph_optimization_pass.cc:176] None of the MLIR Optimization Passes are enabled (registered 2)\n",
      "2022-05-06 12:18:10.992432: W tensorflow/core/platform/profile_utils/cpu_utils.cc:128] Failed to get CPU frequency: 0 Hz\n",
      "/Users/patrickgundlach/miniforge3/envs/tensorflow/lib/python3.9/site-packages/tensorflow/python/keras/backend.py:4929: UserWarning: \"`sparse_categorical_crossentropy` received `from_logits=True`, but the `output` argument was produced by a sigmoid or softmax activation and thus does not represent logits. Was this intended?\"\n",
      "  warnings.warn(\n",
      "2022-05-06 12:18:11.147309: I tensorflow/core/grappler/optimizers/custom_graph_optimizer_registry.cc:112] Plugin optimizer for device_type GPU is enabled.\n"
     ]
    },
    {
     "name": "stdout",
     "output_type": "stream",
     "text": [
      "Epoch 1/20\n",
      "683/683 [==============================] - ETA: 0s - loss: 0.3815 - accuracy: 0.8207"
     ]
    },
    {
     "name": "stderr",
     "output_type": "stream",
     "text": [
      "/Users/patrickgundlach/miniforge3/envs/tensorflow/lib/python3.9/site-packages/tensorflow/python/keras/backend.py:4929: UserWarning: \"`sparse_categorical_crossentropy` received `from_logits=True`, but the `output` argument was produced by a sigmoid or softmax activation and thus does not represent logits. Was this intended?\"\n",
      "  warnings.warn(\n",
      "2022-05-06 12:18:17.092077: I tensorflow/core/grappler/optimizers/custom_graph_optimizer_registry.cc:112] Plugin optimizer for device_type GPU is enabled.\n"
     ]
    },
    {
     "name": "stdout",
     "output_type": "stream",
     "text": [
      "683/683 [==============================] - 7s 6ms/step - loss: 0.3815 - accuracy: 0.8207 - val_loss: 0.6277 - val_accuracy: 0.6548\n",
      "Epoch 2/20\n",
      "683/683 [==============================] - 3s 5ms/step - loss: 0.3477 - accuracy: 0.8374 - val_loss: 0.4744 - val_accuracy: 0.7711\n",
      "Epoch 3/20\n",
      "683/683 [==============================] - 3s 5ms/step - loss: 0.3397 - accuracy: 0.8416 - val_loss: 0.5893 - val_accuracy: 0.6995\n",
      "Epoch 4/20\n",
      "683/683 [==============================] - 4s 5ms/step - loss: 0.3349 - accuracy: 0.8446 - val_loss: 0.5858 - val_accuracy: 0.6956\n",
      "Epoch 5/20\n",
      "683/683 [==============================] - 4s 5ms/step - loss: 0.3301 - accuracy: 0.8465 - val_loss: 0.5848 - val_accuracy: 0.6931\n",
      "Epoch 6/20\n",
      "683/683 [==============================] - 4s 5ms/step - loss: 0.3259 - accuracy: 0.8495 - val_loss: 0.6403 - val_accuracy: 0.6579\n",
      "Epoch 7/20\n",
      "683/683 [==============================] - 4s 5ms/step - loss: 0.3227 - accuracy: 0.8515 - val_loss: 0.4936 - val_accuracy: 0.7462\n",
      "Epoch 8/20\n",
      "683/683 [==============================] - 4s 5ms/step - loss: 0.3196 - accuracy: 0.8528 - val_loss: 0.5599 - val_accuracy: 0.7024\n",
      "Epoch 9/20\n",
      "683/683 [==============================] - 4s 6ms/step - loss: 0.3176 - accuracy: 0.8541 - val_loss: 0.6753 - val_accuracy: 0.6434\n",
      "Epoch 10/20\n",
      "683/683 [==============================] - 4s 5ms/step - loss: 0.3164 - accuracy: 0.8549 - val_loss: 0.6661 - val_accuracy: 0.6553\n",
      "Epoch 11/20\n",
      "683/683 [==============================] - 4s 6ms/step - loss: 0.3128 - accuracy: 0.8569 - val_loss: 0.5982 - val_accuracy: 0.6748\n",
      "Epoch 12/20\n",
      "683/683 [==============================] - 4s 5ms/step - loss: 0.3117 - accuracy: 0.8573 - val_loss: 0.5941 - val_accuracy: 0.6725\n",
      "Epoch 13/20\n",
      "683/683 [==============================] - 4s 5ms/step - loss: 0.3100 - accuracy: 0.8585 - val_loss: 0.5662 - val_accuracy: 0.6940\n",
      "Epoch 14/20\n",
      "683/683 [==============================] - 4s 5ms/step - loss: 0.3079 - accuracy: 0.8589 - val_loss: 0.5770 - val_accuracy: 0.7015\n",
      "Epoch 15/20\n",
      "683/683 [==============================] - 4s 6ms/step - loss: 0.3062 - accuracy: 0.8606 - val_loss: 0.5977 - val_accuracy: 0.6860\n",
      "Epoch 16/20\n",
      "683/683 [==============================] - 4s 5ms/step - loss: 0.3050 - accuracy: 0.8599 - val_loss: 0.6031 - val_accuracy: 0.6697\n",
      "Epoch 17/20\n",
      "683/683 [==============================] - 4s 5ms/step - loss: 0.3040 - accuracy: 0.8615 - val_loss: 0.5868 - val_accuracy: 0.6878\n",
      "Epoch 18/20\n",
      "683/683 [==============================] - 4s 5ms/step - loss: 0.3020 - accuracy: 0.8617 - val_loss: 0.7864 - val_accuracy: 0.5953\n",
      "Epoch 19/20\n",
      "683/683 [==============================] - 4s 5ms/step - loss: 0.3011 - accuracy: 0.8632 - val_loss: 0.5891 - val_accuracy: 0.6874\n",
      "Epoch 20/20\n",
      "683/683 [==============================] - 4s 6ms/step - loss: 0.3002 - accuracy: 0.8635 - val_loss: 0.5461 - val_accuracy: 0.7036\n"
     ]
    }
   ],
   "source": [
    "import tensorflow as tf\n",
    "import tensorflow.keras as keras\n",
    "\n",
    "# Building the ANN\n",
    "model = keras.Sequential()\n",
    "model.add(keras.Input(shape=(15,)))\n",
    "model.add(keras.layers.Dense(units=260, activation='relu'))\n",
    "model.add(keras.layers.Dense(units=140, activation='relu'))\n",
    "model.add(keras.layers.Dense(2, activation=\"softmax\"))\n",
    "\n",
    "model.compile(optimizer = keras.optimizers.Adam(learning_rate=0.001),\n",
    "            loss = keras.losses.SparseCategoricalCrossentropy(),\n",
    "            metrics = ['accuracy'])\n",
    "\n",
    "# Retrieving the features, based on most important features from RFE of all other models\n",
    "X_train_model = feature_selection_df[top_features['Highest Frequency']]\n",
    "y_train_model = df['is_canceled']\n",
    "X_test_model = feature_selection_test_df[top_features['Highest Frequency']]\n",
    "y_test_model = df_test['is_canceled']\n",
    "\n",
    "# Training the model\n",
    "history = model.fit(X_train_model.astype('float32'),\n",
    "                    y_train_model.astype('float32'),\n",
    "                    epochs=20,\n",
    "                    validation_split=0.2,\n",
    "                    batch_size = 128)"
   ]
  },
  {
   "cell_type": "code",
   "execution_count": 21,
   "metadata": {
    "collapsed": false,
    "jupyter": {
     "outputs_hidden": false
    },
    "pycharm": {
     "name": "#%%\n"
    }
   },
   "outputs": [
    {
     "name": "stderr",
     "output_type": "stream",
     "text": [
      "2022-05-06 12:19:44.168669: I tensorflow/core/grappler/optimizers/custom_graph_optimizer_registry.cc:112] Plugin optimizer for device_type GPU is enabled.\n"
     ]
    },
    {
     "data": {
      "text/html": [
       "<div>\n",
       "<style scoped>\n",
       "    .dataframe tbody tr th:only-of-type {\n",
       "        vertical-align: middle;\n",
       "    }\n",
       "\n",
       "    .dataframe tbody tr th {\n",
       "        vertical-align: top;\n",
       "    }\n",
       "\n",
       "    .dataframe thead th {\n",
       "        text-align: right;\n",
       "    }\n",
       "</style>\n",
       "<table border=\"1\" class=\"dataframe\">\n",
       "  <thead>\n",
       "    <tr style=\"text-align: right;\">\n",
       "      <th></th>\n",
       "      <th>Logistic Regression</th>\n",
       "      <th>Random Forest Classifier</th>\n",
       "      <th>XGBoost Classifier</th>\n",
       "      <th>SVM</th>\n",
       "      <th>Artififical Neural Network</th>\n",
       "    </tr>\n",
       "  </thead>\n",
       "  <tbody>\n",
       "    <tr>\n",
       "      <th>Accuracy</th>\n",
       "      <td>0.7374</td>\n",
       "      <td>0.7114</td>\n",
       "      <td>0.7372</td>\n",
       "      <td>0.7304</td>\n",
       "      <td>0.7044</td>\n",
       "    </tr>\n",
       "    <tr>\n",
       "      <th>Precision</th>\n",
       "      <td>0.6766</td>\n",
       "      <td>0.6683</td>\n",
       "      <td>0.6710</td>\n",
       "      <td>0.6813</td>\n",
       "      <td>0.6354</td>\n",
       "    </tr>\n",
       "    <tr>\n",
       "      <th>Recall</th>\n",
       "      <td>0.5600</td>\n",
       "      <td>0.4416</td>\n",
       "      <td>0.5726</td>\n",
       "      <td>0.5142</td>\n",
       "      <td>0.4779</td>\n",
       "    </tr>\n",
       "    <tr>\n",
       "      <th>F1 Score</th>\n",
       "      <td>0.6128</td>\n",
       "      <td>0.5318</td>\n",
       "      <td>0.6179</td>\n",
       "      <td>0.5861</td>\n",
       "      <td>0.5455</td>\n",
       "    </tr>\n",
       "  </tbody>\n",
       "</table>\n",
       "</div>"
      ],
      "text/plain": [
       "           Logistic Regression  Random Forest Classifier  XGBoost Classifier  \\\n",
       "Accuracy                0.7374                    0.7114              0.7372   \n",
       "Precision               0.6766                    0.6683              0.6710   \n",
       "Recall                  0.5600                    0.4416              0.5726   \n",
       "F1 Score                0.6128                    0.5318              0.6179   \n",
       "\n",
       "              SVM  Artififical Neural Network  \n",
       "Accuracy   0.7304                      0.7044  \n",
       "Precision  0.6813                      0.6354  \n",
       "Recall     0.5142                      0.4779  \n",
       "F1 Score   0.5861                      0.5455  "
      ]
     },
     "execution_count": 21,
     "metadata": {},
     "output_type": "execute_result"
    }
   ],
   "source": [
    "# Using the ANN to predict labels\n",
    "pred_proba = model.predict(X_test_model.astype('float32'))[:,1]\n",
    "model_pred = np.where(pred_proba > 0.5, 1,0)\n",
    "\n",
    "# Calculating the relevant metrics\n",
    "accuracy = round(accuracy_score(y_test_model, model_pred), 4)\n",
    "recall = round(recall_score(y_test_model, model_pred), 4)\n",
    "precision = round(precision_score(y_test_model, model_pred), 4)\n",
    "f1 = round(f1_score(y_test_model, model_pred), 4)\n",
    "\n",
    "# Adding the results to the previously defined dfs / lists from the previous models\n",
    "model_statistics = pd.DataFrame(index=metrics, data=[accuracy, precision, recall, f1], columns=[\"Artififical Neural Network\"])\n",
    "comparison_df = comparison_df.join(model_statistics)\n",
    "fitted_models.append(model)\n",
    "X_test_sets.append(X_test_model)\n",
    "comparison_df"
   ]
  },
  {
   "cell_type": "markdown",
   "metadata": {},
   "source": [
    "### 3.4 Model Comparison\n",
    "First, we look at the scores obtained:"
   ]
  },
  {
   "cell_type": "code",
   "execution_count": 23,
   "metadata": {
    "collapsed": false,
    "jupyter": {
     "outputs_hidden": false
    },
    "pycharm": {
     "name": "#%%\n"
    }
   },
   "outputs": [
    {
     "data": {
      "text/html": [
       "<div>\n",
       "<style scoped>\n",
       "    .dataframe tbody tr th:only-of-type {\n",
       "        vertical-align: middle;\n",
       "    }\n",
       "\n",
       "    .dataframe tbody tr th {\n",
       "        vertical-align: top;\n",
       "    }\n",
       "\n",
       "    .dataframe thead th {\n",
       "        text-align: right;\n",
       "    }\n",
       "</style>\n",
       "<table border=\"1\" class=\"dataframe\">\n",
       "  <thead>\n",
       "    <tr style=\"text-align: right;\">\n",
       "      <th></th>\n",
       "      <th>Logistic Regression</th>\n",
       "      <th>Random Forest Classifier</th>\n",
       "      <th>XGBoost Classifier</th>\n",
       "      <th>SVM</th>\n",
       "      <th>Artififical Neural Network</th>\n",
       "    </tr>\n",
       "  </thead>\n",
       "  <tbody>\n",
       "    <tr>\n",
       "      <th>Accuracy</th>\n",
       "      <td>0.7374</td>\n",
       "      <td>0.7114</td>\n",
       "      <td>0.7372</td>\n",
       "      <td>0.7304</td>\n",
       "      <td>0.7044</td>\n",
       "    </tr>\n",
       "    <tr>\n",
       "      <th>Precision</th>\n",
       "      <td>0.6766</td>\n",
       "      <td>0.6683</td>\n",
       "      <td>0.6710</td>\n",
       "      <td>0.6813</td>\n",
       "      <td>0.6354</td>\n",
       "    </tr>\n",
       "    <tr>\n",
       "      <th>Recall</th>\n",
       "      <td>0.5600</td>\n",
       "      <td>0.4416</td>\n",
       "      <td>0.5726</td>\n",
       "      <td>0.5142</td>\n",
       "      <td>0.4779</td>\n",
       "    </tr>\n",
       "    <tr>\n",
       "      <th>F1 Score</th>\n",
       "      <td>0.6128</td>\n",
       "      <td>0.5318</td>\n",
       "      <td>0.6179</td>\n",
       "      <td>0.5861</td>\n",
       "      <td>0.5455</td>\n",
       "    </tr>\n",
       "  </tbody>\n",
       "</table>\n",
       "</div>"
      ],
      "text/plain": [
       "           Logistic Regression  Random Forest Classifier  XGBoost Classifier  \\\n",
       "Accuracy                0.7374                    0.7114              0.7372   \n",
       "Precision               0.6766                    0.6683              0.6710   \n",
       "Recall                  0.5600                    0.4416              0.5726   \n",
       "F1 Score                0.6128                    0.5318              0.6179   \n",
       "\n",
       "              SVM  Artififical Neural Network  \n",
       "Accuracy   0.7304                      0.7044  \n",
       "Precision  0.6813                      0.6354  \n",
       "Recall     0.5142                      0.4779  \n",
       "F1 Score   0.5861                      0.5455  "
      ]
     },
     "execution_count": 23,
     "metadata": {},
     "output_type": "execute_result"
    }
   ],
   "source": [
    "comparison_df"
   ]
  },
  {
   "cell_type": "markdown",
   "metadata": {},
   "source": [
    "We can see that the Random Forest model is the best model in for every metric except for recall (Logistic Regression performs best)."
   ]
  },
  {
   "cell_type": "code",
   "execution_count": 29,
   "metadata": {
    "collapsed": false,
    "jupyter": {
     "outputs_hidden": false
    },
    "pycharm": {
     "name": "#%%\n"
    }
   },
   "outputs": [
    {
     "name": "stderr",
     "output_type": "stream",
     "text": [
      "/Users/patrickgundlach/miniforge3/envs/tensorflow/lib/python3.9/site-packages/xgboost/data.py:262: FutureWarning: pandas.Int64Index is deprecated and will be removed from pandas in a future version. Use pandas.Index with the appropriate dtype instead.\n",
      "  elif isinstance(data.columns, (pd.Int64Index, pd.RangeIndex)):\n",
      "/Users/patrickgundlach/miniforge3/envs/tensorflow/lib/python3.9/site-packages/tensorflow/python/keras/engine/sequential.py:430: UserWarning: `model.predict_proba()` is deprecated and will be removed after 2021-01-01. Please use `model.predict()` instead.\n",
      "  warnings.warn('`model.predict_proba()` is deprecated and '\n",
      "2022-05-06 12:24:07.831073: I tensorflow/core/grappler/optimizers/custom_graph_optimizer_registry.cc:112] Plugin optimizer for device_type GPU is enabled.\n"
     ]
    },
    {
     "data": {
      "image/png": "[encoded data removed]",
      "text/plain": [
       "<Figure size 608x570 with 1 Axes>"
      ]
     },
     "metadata": {},
     "output_type": "display_data"
    }
   ],
   "source": [
    "from typing import Union\n",
    "\n",
    "def get_roc_curve_multiple(models, X_test_in: Union[pd.DataFrame, List[pd.DataFrame]], y_true: pd.Series):\n",
    "    plt.figure(figsize=(6.4, 6), dpi=95)\n",
    "\n",
    "    #create ROC curve fpr each model\n",
    "\n",
    "    for i, model in enumerate(models):\n",
    "        X_test = X_test_in[i] if isinstance(X_test_in, list) else X_test_in\n",
    "        if False: #model == ann:\n",
    "            y_pred_proba = ann.predict(X_test.astype('float32'))[:,1]\n",
    "        else:\n",
    "            y_pred_proba = model.predict_proba(X_test)[::,1]\n",
    "        fpr, tpr, _ = roc_curve(y_true,  y_pred_proba)\n",
    "        plt.plot(fpr, tpr, label=model.__class__.__name__)\n",
    "\n",
    "    plt.plot([0, 1], [0, 1], linewidth=0.5, color='grey', label='Reference Line')  # plot diagonal as reference line\n",
    "    plt.ylabel('True Positive Rate')\n",
    "    plt.xlabel('False Positive Rate')\n",
    "    plt.legend()\n",
    "    plt.title('ROC Curve')\n",
    "\n",
    "get_roc_curve_multiple(fitted_models, X_test_sets, df_test['is_canceled'])"
   ]
  },
  {
   "cell_type": "code",
   "execution_count": 30,
   "metadata": {
    "collapsed": false,
    "jupyter": {
     "outputs_hidden": false
    },
    "pycharm": {
     "name": "#%%\n"
    }
   },
   "outputs": [
    {
     "ename": "AttributeError",
     "evalue": "'RFE' object has no attribute 'ranking_'",
     "output_type": "error",
     "traceback": [
      "\u001b[0;31m---------------------------------------------------------------------------\u001b[0m",
      "\u001b[0;31mAttributeError\u001b[0m                            Traceback (most recent call last)",
      "Input \u001b[0;32mIn [30]\u001b[0m, in \u001b[0;36m<cell line: 2>\u001b[0;34m()\u001b[0m\n\u001b[1;32m      1\u001b[0m selector \u001b[38;5;241m=\u001b[39m RFE(RandomForestClassifier(), n_features_to_select\u001b[38;5;241m=\u001b[39m\u001b[38;5;241m15\u001b[39m, step\u001b[38;5;241m=\u001b[39m\u001b[38;5;241m10\u001b[39m)\n\u001b[0;32m----> 2\u001b[0m feat_rank_df \u001b[38;5;241m=\u001b[39m pd\u001b[38;5;241m.\u001b[39mDataFrame(data\u001b[38;5;241m=\u001b[39m\u001b[43mselector\u001b[49m\u001b[38;5;241;43m.\u001b[39;49m\u001b[43mranking_\u001b[49m, index\u001b[38;5;241m=\u001b[39mfeature_selection_df\u001b[38;5;241m.\u001b[39mcolumns, columns\u001b[38;5;241m=\u001b[39m[\u001b[38;5;124m'\u001b[39m\u001b[38;5;124mrank\u001b[39m\u001b[38;5;124m'\u001b[39m])\u001b[38;5;241m.\u001b[39msort_values(\u001b[38;5;124m'\u001b[39m\u001b[38;5;124mrank\u001b[39m\u001b[38;5;124m'\u001b[39m, ascending\u001b[38;5;241m=\u001b[39m\u001b[38;5;28;01mTrue\u001b[39;00m)\n\u001b[1;32m      3\u001b[0m feat_rank_df\n",
      "\u001b[0;31mAttributeError\u001b[0m: 'RFE' object has no attribute 'ranking_'"
     ]
    }
   ],
   "source": [
    "selector = RFE(RandomForestClassifier(), n_features_to_select=15, step=10)\n",
    "feat_rank_df = pd.DataFrame(data=selector.ranking_, index=feature_selection_df.columns, columns=['rank']).sort_values('rank', ascending=True)\n",
    "feat_rank_df"
   ]
  },
  {
   "cell_type": "markdown",
   "metadata": {},
   "source": [
    "Let's look at the relative importance of the remaining 15 features in a Random Forest:"
   ]
  },
  {
   "cell_type": "code",
   "execution_count": 434,
   "metadata": {
    "collapsed": false,
    "jupyter": {
     "outputs_hidden": false
    },
    "pycharm": {
     "name": "#%%\n"
    }
   },
   "outputs": [
    {
     "data": {
      "text/html": [
       "<div>\n",
       "<style scoped>\n",
       "    .dataframe tbody tr th:only-of-type {\n",
       "        vertical-align: middle;\n",
       "    }\n",
       "\n",
       "    .dataframe tbody tr th {\n",
       "        vertical-align: top;\n",
       "    }\n",
       "\n",
       "    .dataframe thead th {\n",
       "        text-align: right;\n",
       "    }\n",
       "</style>\n",
       "<table border=\"1\" class=\"dataframe\">\n",
       "  <thead>\n",
       "    <tr style=\"text-align: right;\">\n",
       "      <th></th>\n",
       "      <th>Importance</th>\n",
       "    </tr>\n",
       "  </thead>\n",
       "  <tbody>\n",
       "    <tr>\n",
       "      <th>numeric__lead_time</th>\n",
       "      <td>0.203632</td>\n",
       "    </tr>\n",
       "    <tr>\n",
       "      <th>numeric__adr</th>\n",
       "      <td>0.137911</td>\n",
       "    </tr>\n",
       "    <tr>\n",
       "      <th>categorical__country_PRT</th>\n",
       "      <td>0.104149</td>\n",
       "    </tr>\n",
       "    <tr>\n",
       "      <th>numeric__arrival_date_day_of_month</th>\n",
       "      <td>0.083421</td>\n",
       "    </tr>\n",
       "    <tr>\n",
       "      <th>numeric__arrival_date_week_number</th>\n",
       "      <td>0.071397</td>\n",
       "    </tr>\n",
       "    <tr>\n",
       "      <th>numeric__total_of_special_requests</th>\n",
       "      <td>0.069940</td>\n",
       "    </tr>\n",
       "    <tr>\n",
       "      <th>categorical__market_segment_Online TA</th>\n",
       "      <td>0.050861</td>\n",
       "    </tr>\n",
       "    <tr>\n",
       "      <th>numeric__room_changed</th>\n",
       "      <td>0.042354</td>\n",
       "    </tr>\n",
       "    <tr>\n",
       "      <th>numeric__stay_total_nights</th>\n",
       "      <td>0.041968</td>\n",
       "    </tr>\n",
       "    <tr>\n",
       "      <th>numeric__previous_cancellations</th>\n",
       "      <td>0.039718</td>\n",
       "    </tr>\n",
       "    <tr>\n",
       "      <th>categorical__customer_type_Transient</th>\n",
       "      <td>0.038222</td>\n",
       "    </tr>\n",
       "    <tr>\n",
       "      <th>numeric__arrival_date_month</th>\n",
       "      <td>0.037987</td>\n",
       "    </tr>\n",
       "    <tr>\n",
       "      <th>numeric__stays_in_week_nights</th>\n",
       "      <td>0.032677</td>\n",
       "    </tr>\n",
       "    <tr>\n",
       "      <th>categorical__market_segment_Groups</th>\n",
       "      <td>0.024844</td>\n",
       "    </tr>\n",
       "    <tr>\n",
       "      <th>numeric__stays_in_weekend_nights</th>\n",
       "      <td>0.020919</td>\n",
       "    </tr>\n",
       "  </tbody>\n",
       "</table>\n",
       "</div>"
      ],
      "text/plain": [
       "                                       Importance\n",
       "numeric__lead_time                       0.203632\n",
       "numeric__adr                             0.137911\n",
       "categorical__country_PRT                 0.104149\n",
       "numeric__arrival_date_day_of_month       0.083421\n",
       "numeric__arrival_date_week_number        0.071397\n",
       "numeric__total_of_special_requests       0.069940\n",
       "categorical__market_segment_Online TA    0.050861\n",
       "numeric__room_changed                    0.042354\n",
       "numeric__stay_total_nights               0.041968\n",
       "numeric__previous_cancellations          0.039718\n",
       "categorical__customer_type_Transient     0.038222\n",
       "numeric__arrival_date_month              0.037987\n",
       "numeric__stays_in_week_nights            0.032677\n",
       "categorical__market_segment_Groups       0.024844\n",
       "numeric__stays_in_weekend_nights         0.020919"
      ]
     },
     "execution_count": 434,
     "metadata": {},
     "output_type": "execute_result"
    }
   ],
   "source": [
    "remaining_features = feature_selection_df.columns[selector.support_]\n",
    "feature_selection_remainder_df = feature_selection_df[remaining_features]\n",
    "rf_feature_selection = RandomForestClassifier()\n",
    "rf_feature_selection.fit(feature_selection_remainder_df, df['is_canceled'])\n",
    "importances_df = pd.DataFrame(data=rf_feature_selection.feature_importances_, index=remaining_features, columns=['Importance']).sort_values('Importance', ascending=False)\n",
    "importances_df"
   ]
  },
  {
   "cell_type": "code",
   "execution_count": 435,
   "metadata": {
    "collapsed": false,
    "jupyter": {
     "outputs_hidden": false
    },
    "pycharm": {
     "name": "#%%\n"
    }
   },
   "outputs": [
    {
     "data": {
      "text/plain": [
       "<AxesSubplot:>"
      ]
     },
     "execution_count": 435,
     "metadata": {},
     "output_type": "execute_result"
    },
    {
     "data": {
      "image/png": "[encoded data removed]",
      "text/plain": [
       "<Figure size 576x396 with 1 Axes>"
      ]
     },
     "metadata": {},
     "output_type": "display_data"
    }
   ],
   "source": [
    "importances_df.sort_values('Importance', ascending=True).plot.barh()"
   ]
  },
  {
   "cell_type": "code",
   "execution_count": 437,
   "metadata": {
    "collapsed": false,
    "jupyter": {
     "outputs_hidden": false
    },
    "pycharm": {
     "name": "#%%\n"
    }
   },
   "outputs": [
    {
     "data": {
      "text/plain": [
       "Online TA        0.473667\n",
       "Offline TA/TO    0.203208\n",
       "Groups           0.165421\n",
       "Direct           0.105017\n",
       "Corporate        0.044269\n",
       "Complementary    0.006418\n",
       "Aviation         0.002000\n",
       "Name: market_segment, dtype: float64"
      ]
     },
     "execution_count": 437,
     "metadata": {},
     "output_type": "execute_result"
    }
   ],
   "source": [
    "df['market_segment'].value_counts(normalize=True)"
   ]
  },
  {
   "cell_type": "markdown",
   "metadata": {},
   "source": [
    "The two clearly most important features are the lead time and the average daily revenue (adr). The remaining features all have a pretty low, but balanced, importance that remains above the 2% mark."
   ]
  },
  {
   "cell_type": "markdown",
   "metadata": {},
   "source": [
    "## 4. Model Tuning\n",
    "### 4.1 Preprocessing Pipeline\n",
    "For the features chosen in 3.3, a preprocessing pipeline is built in which features get standardized or binarized."
   ]
  },
  {
   "cell_type": "code",
   "execution_count": null,
   "metadata": {
    "collapsed": false,
    "jupyter": {
     "outputs_hidden": false
    },
    "pycharm": {
     "name": "#%%\n"
    }
   },
   "outputs": [],
   "source": [
    "from sklearn.pipeline import Pipeline, FeatureUnion\n",
    "from sklearn.base import BaseEstimator, TransformerMixin\n",
    "from sklearn.preprocessing import Binarizer, FunctionTransformer, StandardScaler, OneHotEncoder\n",
    "from sklearn.impute import SimpleImputer\n",
    "from sklearn.compose import ColumnTransformer\n",
    "from sklearn import set_config\n",
    "set_config(display=\"diagram\")"
   ]
  },
  {
   "cell_type": "code",
   "execution_count": null,
   "metadata": {
    "collapsed": false,
    "jupyter": {
     "outputs_hidden": false
    },
    "pycharm": {
     "name": "#%%\n"
    }
   },
   "outputs": [],
   "source": [
    "#Define categories of attributes\n",
    "num_attribs = [\"lead_time\", \"adr\", \"stay_total_nights\"]\n",
    "num_attribs_discr = [\"arrival_date_day_of_month\", \"arrival_date_month\", \"arrival_date_week_number\", \"room_changed\"]\n",
    "num_attribs_bin = [\"total_of_special_requests\", \"previous_cancellations\"]\n",
    "cat_attribs_bin = [\n",
    "    # (column, true value)\n",
    "    (\"country\", \"PRT\"),\n",
    "    (\"market_segment\", \"Online TA\"),\n",
    "    (\"market_segment\", \"Groups\"),\n",
    "    (\"customer_type\", \"Transient\")\n",
    "]\n",
    "\n",
    "# Create a class to select specified columns from DataFrame\n",
    "class ColumnSelector(BaseEstimator, TransformerMixin):\n",
    "    def __init__(self, attribute_names):\n",
    "        self.attribute_names = attribute_names\n",
    "    def fit(self, X, y=None):\n",
    "        return self\n",
    "    def transform(self, X):\n",
    "        return X[self.attribute_names].values\n",
    "\n",
    "# Define function for one-vs-all binary transformation of categorical variables\n",
    "def binary_tansformer_cat(arr, true_vals):\n",
    "    # order of true_vals needs to be equivalent to corresponding column names in cat_attribs_bin\n",
    "    for i, true_val in enumerate(true_vals):\n",
    "        arr[:, i] = np.where(arr[:, i] == true_val, 1, 0)\n",
    "    return arr\n",
    "\n",
    "num_pipeline = Pipeline(\n",
    "    steps=[\n",
    "        ('selector', ColumnSelector(num_attribs)),\n",
    "        ('scaler', StandardScaler())\n",
    "    ])\n",
    "\n",
    "num_discrete_pipeline = Pipeline(\n",
    "    steps=[\n",
    "        ('selector', ColumnSelector(num_attribs_discr))\n",
    "    ]\n",
    ")\n",
    "\n",
    "num_binary_pipeline = Pipeline(\n",
    "    steps=[\n",
    "        ('selector', ColumnSelector(num_attribs_bin)),\n",
    "        ('binarizer', Binarizer())\n",
    "    ])\n",
    "\n",
    "cat_binary_pipeline = Pipeline(\n",
    "    steps=[\n",
    "        ('selector', ColumnSelector([e[0] for e in cat_attribs_bin])),\n",
    "        ('binarizer_cat', FunctionTransformer(binary_tansformer_cat, kw_args={'true_vals': [e[1] for e in cat_attribs_bin]}))\n",
    "    ])\n",
    "\n",
    "preprocessor = FeatureUnion(\n",
    "    transformer_list = [\n",
    "        ('num_pipeline', num_pipeline),\n",
    "        (\"num_discrete_pipeline\", num_discrete_pipeline),\n",
    "        (\"num_binary_pipeline\", num_binary_pipeline),\n",
    "        (\"cat_binary_pipeline\", cat_binary_pipeline),\n",
    "#        (\"cat_pipeline\", cat_pipeline)\n",
    "    ])\n",
    "preprocessor"
   ]
  },
  {
   "cell_type": "markdown",
   "metadata": {},
   "source": [
    "### 4.2 Creation of X_train, y_train, X_test, y_test\n",
    "For the subsequent modeling, we need uniform datasets for training and testing data. Therefore, we split the existent 'df' (training data), 'df_test' (testing data) into X (features) and y (labels). The features are passed through the preprocessing pipeline."
   ]
  },
  {
   "cell_type": "code",
   "execution_count": null,
   "metadata": {
    "collapsed": false,
    "jupyter": {
     "outputs_hidden": false
    },
    "pycharm": {
     "name": "#%%\n"
    }
   },
   "outputs": [],
   "source": [
    "set_config(display='text')\n",
    "X_train = preprocessor.fit_transform(df)\n",
    "y_train = df['is_canceled']\n",
    "X_test = preprocessor.fit_transform(df_test)\n",
    "y_test = df_test['is_canceled']"
   ]
  },
  {
   "cell_type": "markdown",
   "metadata": {},
   "source": [
    "### 4.3 Standardized Model Evaluation\n",
    "We define several functions to evaluate a model. The aim is to have standardized functions to compare the various models on."
   ]
  },
  {
   "cell_type": "code",
   "execution_count": 28,
   "metadata": {
    "collapsed": false,
    "jupyter": {
     "outputs_hidden": false
    },
    "pycharm": {
     "name": "#%%\n"
    }
   },
   "outputs": [],
   "source": [
    "from sklearn.metrics import recall_score, precision_score, accuracy_score, f1_score, confusion_matrix, roc_curve\n",
    "import seaborn as sns\n",
    "\n",
    "def get_cnf_matrix(y_true, y_pred):\n",
    "    \"\"\"\n",
    "    This function receives a true y and a predicted y array. It plots a confusion matrix as sns.heatmap.\n",
    "    \n",
    "    Parameters:\n",
    "        y_true:\n",
    "            numpy array or pandas Series / DF of true y values. \n",
    "        y_pred:\n",
    "            numpy array or pandas Series / DF of predicted y values. \n",
    "    \"\"\"\n",
    "\n",
    "    cnf_matrix = confusion_matrix(y_true, y_pred)\n",
    "\n",
    "    # Plotting the confusion matrix\n",
    "\n",
    "    class_names=[0,1]\n",
    "    fig, ax = plt.subplots(figsize=(3.5,2.8), dpi=105)\n",
    "    tick_marks = np.arange(len(class_names))\n",
    "    plt.xticks(tick_marks, class_names)\n",
    "    plt.yticks(tick_marks, class_names)\n",
    "\n",
    "    # create heatmap\n",
    "    sns.heatmap(pd.DataFrame(cnf_matrix),\n",
    "                annot=True,\n",
    "                cmap=\"YlGnBu\" ,\n",
    "                fmt='g',\n",
    "                )#annot_kws={\"size\": 15, \"weight\": \"bold\"})\n",
    "    ax.xaxis.set_label_position(\"top\")\n",
    "    plt.tight_layout()\n",
    "    plt.title('Confusion Matrix', y=1.1)\n",
    "    plt.ylabel('Actual label')\n",
    "    plt.xlabel('Predicted label')\n",
    "\n",
    "\n",
    "def get_metrics(y_true, y_pred):\n",
    "    \"\"\"\n",
    "    This function receives a true y and a predicted y array. It prints Recall, Precision and Accuracy.\n",
    "    \n",
    "    Parameters:\n",
    "        y_true:\n",
    "            numpy array or pandas Series / DF of true y values. \n",
    "        y_pred:\n",
    "            numpy array or pandas Series / DF of predicted y values. \n",
    "    \"\"\"\n",
    "    print(\"Recall:\", round(recall_score(y_true, y_pred),4))\n",
    "    print(\"Precision:\", round(precision_score(y_true, y_pred),4))\n",
    "    print(\"Accuracy:\", round(accuracy_score(y_true, y_pred),4))\n",
    "    print(\"F1 Score:\", round(f1_score(y_true, y_pred),4))\n",
    "\n",
    "\n",
    "def get_roc_curve(y_true, pred_proba):\n",
    "    y_pred_proba = pred_proba[::,1]\n",
    "    fpr, tpr, _ = roc_curve(y_true,  y_pred_proba)\n",
    "\n",
    "    #create ROC curve\n",
    "    plt.figure(figsize=(4.3, 4), dpi=95)\n",
    "    plt.plot(fpr, tpr)\n",
    "    plt.plot([0, 1], [0, 1], linewidth=0.5, color='grey') # plot diagonal as reference line\n",
    "    plt.ylabel('True Positive Rate')\n",
    "    plt.xlabel('False Positive Rate')\n",
    "    plt.title('ROC Curve')\n",
    "\n",
    "def get_roc_curve_ann(y_true, y_pred_proba):\n",
    "    fpr, tpr, _ = roc_curve(y_true,  y_pred_proba)\n",
    "\n",
    "    #create ROC curve\n",
    "    plt.figure(figsize=(4.3, 4), dpi=95)\n",
    "    plt.plot(fpr, tpr)\n",
    "    plt.plot([0, 1], [0, 1], linewidth=0.5, color='grey') # plot diagonal as reference line\n",
    "    plt.ylabel('True Positive Rate')\n",
    "    plt.xlabel('False Positive Rate')\n",
    "    plt.title('ROC Curve')\n",
    "\n",
    "def get_roc_curve_multiple(models, X_test, y_true):\n",
    "    plt.figure(figsize=(6.4, 6), dpi=95)\n",
    "\n",
    "    #create ROC curve fpr each model\n",
    "    for model in models:\n",
    "        if model == ann:\n",
    "            y_pred_proba = ann.predict(X_test.astype('float32'))[:,1]\n",
    "        else:\n",
    "            y_pred_proba = model.predict_proba(X_test)[::,1]\n",
    "        fpr, tpr, _ = roc_curve(y_true,  y_pred_proba)\n",
    "        plt.plot(fpr, tpr, label=model.__class__.__name__)\n",
    "\n",
    "    plt.plot([0, 1], [0, 1], linewidth=0.5, color='grey', label='Reference Line')  # plot diagonal as reference line\n",
    "    plt.ylabel('True Positive Rate')\n",
    "    plt.xlabel('False Positive Rate')\n",
    "    plt.legend()\n",
    "    plt.title('ROC Curve')"
   ]
  },
  {
   "cell_type": "markdown",
   "metadata": {},
   "source": [
    "### 4.4 Models\n",
    "\n",
    "In the following we will test different models for the previously selected features. We will not be evaluating them based on a single business criterium/metric right now. Instead, we will use the overall confusion matrix, precision, recall and accuracy to get a feeling for the fit of a model to our problem. \n",
    "\n",
    "#### 4.4.1. Logistic Regression"
   ]
  },
  {
   "cell_type": "code",
   "execution_count": null,
   "metadata": {
    "collapsed": false,
    "jupyter": {
     "outputs_hidden": false
    },
    "pycharm": {
     "name": "#%%\n"
    }
   },
   "outputs": [],
   "source": [
    "from sklearn.linear_model import LogisticRegression\n",
    "from sklearn.model_selection import RandomizedSearchCV\n",
    "\n",
    "log_reg = LogisticRegression(class_weight = 'balanced',\n",
    "                             random_state = seed)\n",
    "\n",
    "params = {'C': [0.001, 0.01, 0.1, 1],\n",
    "          'solver' : ['liblinear', 'saga'],\n",
    "          'penalty': ['l1', 'l2']}\n",
    "\n",
    "RSCV = RandomizedSearchCV(log_reg,\n",
    "                          params,\n",
    "                          cv = 5,\n",
    "                          scoring = 'accuracy',\n",
    "                          return_train_score = True,\n",
    "                          n_jobs = -1,\n",
    "                          #n_iter = 20,\n",
    "                          random_state=42)\n",
    "\n",
    "\n",
    "search = RSCV.fit(X_train, y_train)\n",
    "results = pd.DataFrame(search.cv_results_)"
   ]
  },
  {
   "cell_type": "code",
   "execution_count": null,
   "metadata": {
    "collapsed": false,
    "jupyter": {
     "outputs_hidden": false
    },
    "pycharm": {
     "name": "#%%\n"
    }
   },
   "outputs": [],
   "source": [
    "best_log_reg = search.best_estimator_\n",
    "best_log_reg"
   ]
  },
  {
   "cell_type": "code",
   "execution_count": null,
   "metadata": {
    "collapsed": false,
    "jupyter": {
     "outputs_hidden": false
    },
    "pycharm": {
     "name": "#%%\n"
    }
   },
   "outputs": [],
   "source": [
    "pred = best_log_reg.predict(X_test)\n",
    "pred_proba = best_log_reg.predict_proba(X_test)\n",
    "get_cnf_matrix(y_test, pred)\n",
    "get_metrics(y_test, pred)\n",
    "get_roc_curve(y_test, pred_proba)"
   ]
  },
  {
   "cell_type": "markdown",
   "metadata": {},
   "source": [
    "#### 4.4.2 Random Forest"
   ]
  },
  {
   "cell_type": "code",
   "execution_count": null,
   "metadata": {
    "collapsed": false,
    "jupyter": {
     "outputs_hidden": false
    },
    "pycharm": {
     "name": "#%%\n"
    }
   },
   "outputs": [],
   "source": [
    "from sklearn.ensemble import RandomForestClassifier\n",
    "from sklearn.model_selection import GridSearchCV\n",
    "\n",
    "random_forest = RandomForestClassifier(n_estimators=500,\n",
    "                                       random_state=42)\n",
    "param_grid = {'max_depth': [25],  #[15, 25],\n",
    "              'min_samples_split': [2],  #[2,5],\n",
    "              'min_samples_leaf': [1],  #[1,3]\n",
    "              'max_features': ['auto']}  #, 15, 12, 9]}\n",
    "gscv_rf = GridSearchCV(random_forest,\n",
    "                       param_grid=param_grid,\n",
    "                       cv=5,\n",
    "                       n_jobs=-1)\n",
    "\n",
    "gscv_rf.fit(X_train, y_train)"
   ]
  },
  {
   "cell_type": "code",
   "execution_count": null,
   "metadata": {
    "collapsed": false,
    "jupyter": {
     "outputs_hidden": false
    },
    "pycharm": {
     "name": "#%%\n"
    }
   },
   "outputs": [],
   "source": [
    "best_rf = gscv_rf.best_estimator_\n",
    "best_rf"
   ]
  },
  {
   "cell_type": "code",
   "execution_count": null,
   "metadata": {
    "collapsed": false,
    "jupyter": {
     "outputs_hidden": false
    },
    "pycharm": {
     "name": "#%%\n"
    }
   },
   "outputs": [],
   "source": [
    "pred = best_rf.predict(X_test)\n",
    "pred_proba = best_rf.predict_proba(X_test)\n",
    "get_cnf_matrix(y_test, pred)\n",
    "get_metrics(y_test, pred)\n",
    "get_roc_curve(y_test, pred_proba)"
   ]
  },
  {
   "cell_type": "code",
   "execution_count": null,
   "metadata": {
    "collapsed": false,
    "jupyter": {
     "outputs_hidden": false
    },
    "pycharm": {
     "name": "#%%\n"
    }
   },
   "outputs": [],
   "source": [
    "best_rf.feature_importances_"
   ]
  },
  {
   "cell_type": "markdown",
   "metadata": {},
   "source": [
    "#### 4.4.3 XGBoost"
   ]
  },
  {
   "cell_type": "code",
   "execution_count": null,
   "metadata": {
    "collapsed": false,
    "jupyter": {
     "outputs_hidden": false
    },
    "pycharm": {
     "name": "#%%\n"
    }
   },
   "outputs": [],
   "source": [
    "import xgboost as xgb\n",
    "from sklearn.model_selection import GridSearchCV\n",
    "\n",
    "cv_params = {'max_depth': [5,7], 'min_child_weight': [1,3]}\n",
    "ind_params = {'learning_rate': 0.1, 'n_estimators': 500, 'seed':0, 'subsample': 0.8, 'colsample_bytree': 0.8,\n",
    "             'objective': 'binary:logistic'}\n",
    "optimized_GBM = GridSearchCV(xgb.XGBClassifier(**ind_params),\n",
    "                             cv_params,\n",
    "                             scoring = 'accuracy',\n",
    "                             cv = 5,\n",
    "                             n_jobs = -1)\n",
    "optimized_GBM.fit(X_train, y_train)"
   ]
  },
  {
   "cell_type": "code",
   "execution_count": null,
   "metadata": {
    "collapsed": false,
    "jupyter": {
     "outputs_hidden": false
    },
    "pycharm": {
     "name": "#%%\n"
    }
   },
   "outputs": [],
   "source": [
    "best_xgb = optimized_GBM.best_estimator_"
   ]
  },
  {
   "cell_type": "code",
   "execution_count": null,
   "metadata": {
    "collapsed": false,
    "jupyter": {
     "outputs_hidden": false
    },
    "pycharm": {
     "name": "#%%\n"
    }
   },
   "outputs": [],
   "source": [
    "pred = best_xgb.predict(X_test)\n",
    "pred_proba = best_xgb.predict_proba(X_test)\n",
    "get_cnf_matrix(y_test, pred)\n",
    "get_metrics(y_test, pred)\n",
    "get_roc_curve(y_test, pred_proba)"
   ]
  },
  {
   "cell_type": "markdown",
   "metadata": {},
   "source": [
    "#### 4.4.X Voting Classifier"
   ]
  },
  {
   "cell_type": "code",
   "execution_count": null,
   "metadata": {
    "collapsed": false,
    "jupyter": {
     "outputs_hidden": false
    },
    "pycharm": {
     "name": "#%%\n"
    }
   },
   "outputs": [],
   "source": [
    "from sklearn.ensemble import VotingClassifier\n",
    "\n",
    "voting_clf = VotingClassifier(\n",
    "    estimators=[('lr', best_log_reg), ('rf', best_rf), ('xgb', best_xgb)],\n",
    "    voting='soft')\n",
    "voting_clf.fit(X_train, y_train)"
   ]
  },
  {
   "cell_type": "code",
   "execution_count": null,
   "metadata": {
    "collapsed": false,
    "jupyter": {
     "outputs_hidden": false
    },
    "pycharm": {
     "name": "#%%\n"
    }
   },
   "outputs": [],
   "source": [
    "pred = voting_clf.predict(X_test)\n",
    "pred_proba = voting_clf.predict_proba(X_test)\n",
    "get_cnf_matrix(y_test, pred)\n",
    "get_metrics(y_test, pred)\n",
    "get_roc_curve(y_test, pred_proba)"
   ]
  },
  {
   "cell_type": "markdown",
   "metadata": {},
   "source": [
    "#### 4.4.5 Artificial Neural Network"
   ]
  },
  {
   "cell_type": "code",
   "execution_count": null,
   "metadata": {
    "collapsed": false,
    "jupyter": {
     "outputs_hidden": false
    },
    "pycharm": {
     "name": "#%%\n"
    }
   },
   "outputs": [],
   "source": [
    "import tensorflow as tf\n",
    "print(\"Num GPUs Available: \", len(tf.config.list_physical_devices('GPU')))"
   ]
  },
  {
   "cell_type": "code",
   "execution_count": null,
   "metadata": {
    "collapsed": false,
    "jupyter": {
     "outputs_hidden": false
    },
    "pycharm": {
     "name": "#%%\n"
    }
   },
   "outputs": [],
   "source": [
    "import tensorflow as tf\n",
    "import tensorflow.keras as keras\n",
    "# Run this line only in case keras_tuner is not yet installed\n",
    "#!pip install -q -U keras-tuner\n",
    "import keras_tuner as kt\n",
    "\n",
    "# Defining a method that is used by the keras tuner later on\n",
    "def model_builder(hp):\n",
    "    model = keras.Sequential()\n",
    "    model.add(keras.Input(shape=(17,)))\n",
    "\n",
    "    # Tune the number of units in two Dense layers\n",
    "    # Choose an optimal value between 32-512\n",
    "    hp_units_1 = hp.Int('units_1', min_value=32, max_value=512, step=32)\n",
    "    hp_units_2 = hp.Int('units_2', min_value=32, max_value=512, step=32)\n",
    "    model.add(keras.layers.Dense(units=hp_units_1, activation='relu'))\n",
    "    model.add(keras.layers.Dense(units=hp_units_2, activation='relu'))\n",
    "    model.add(keras.layers.Dense(10))\n",
    "\n",
    "    # Tune the learning rate for the optimizer\n",
    "    # Choose an optimal value from 0.1, 0.01, 0.001, or 0.0001\n",
    "    hp_learning_rate = hp.Choice('learning_rate', values=[1e-1, 1e-2, 1e-3, 1e-4])\n",
    "\n",
    "    model.compile(optimizer = keras.optimizers.Adam(learning_rate=hp_learning_rate),\n",
    "                loss = keras.losses.SparseCategoricalCrossentropy(from_logits=True),\n",
    "                metrics = ['accuracy'])\n",
    "\n",
    "    return model"
   ]
  },
  {
   "cell_type": "code",
   "execution_count": null,
   "metadata": {
    "collapsed": false,
    "jupyter": {
     "outputs_hidden": false
    },
    "pycharm": {
     "name": "#%%\n"
    }
   },
   "outputs": [],
   "source": [
    "tuner = kt.Hyperband(model_builder,\n",
    "                     objective='val_accuracy',\n",
    "                     max_epochs=10,\n",
    "                     factor=3)\n",
    "tuner.search(X_train.astype('float32'), y_train.astype('float32'), epochs=50, validation_split=0.2)"
   ]
  },
  {
   "cell_type": "code",
   "execution_count": null,
   "metadata": {
    "collapsed": false,
    "jupyter": {
     "outputs_hidden": false
    },
    "pycharm": {
     "name": "#%%\n"
    }
   },
   "outputs": [],
   "source": [
    "best_hps = tuner.get_best_hyperparameters(num_trials=1)[0]\n",
    "print(f\"\"\"\n",
    "The hyperparameter search is complete. The optimal number of units in the first densely-connected\n",
    "layer is {best_hps.get('units_1')}, for the second densely-connected layer is {best_hps.get('units_2')} and the optimal learning rate for the optimizer\n",
    "is {best_hps.get('learning_rate')}.\n",
    "\"\"\")"
   ]
  },
  {
   "cell_type": "code",
   "execution_count": null,
   "metadata": {
    "collapsed": false,
    "jupyter": {
     "outputs_hidden": false
    },
    "pycharm": {
     "name": "#%%\n"
    }
   },
   "outputs": [],
   "source": [
    "# Build the model with the optimal hyperparameters and train it on the data for 50 epochs\n",
    "ann = tuner.hypermodel.build(best_hps)\n",
    "history = ann.fit(X_train.astype('float32'), \n",
    "                    y_train.astype('float32'), \n",
    "                    epochs=50, \n",
    "                    validation_split=0.2)\n"
   ]
  },
  {
   "cell_type": "code",
   "execution_count": null,
   "metadata": {
    "collapsed": false,
    "jupyter": {
     "outputs_hidden": false
    },
    "pycharm": {
     "name": "#%%\n"
    }
   },
   "outputs": [],
   "source": [
    "pred_proba = ann.predict(X_test.astype('float32'))[:,1]\n",
    "pred = np.where(pred_proba > 0.5, 1,0)\n",
    "get_cnf_matrix(y_test, pred)\n",
    "get_metrics(y_test, pred)\n",
    "get_roc_curve_ann(y_test, pred_proba)\n"
   ]
  },
  {
   "cell_type": "markdown",
   "metadata": {},
   "source": [
    "### 4.5 Model Comparison\n",
    "In order to compare the different models developed before, a table comparing each of the obtained classification evaluation metrics is created."
   ]
  },
  {
   "cell_type": "code",
   "execution_count": null,
   "metadata": {
    "collapsed": false,
    "jupyter": {
     "outputs_hidden": false
    },
    "pycharm": {
     "name": "#%%\n"
    }
   },
   "outputs": [],
   "source": [
    "from sklearn.metrics import recall_score, precision_score, accuracy_score, f1_score\n",
    "\n",
    "models = [best_log_reg, best_rf, best_xgb, voting_clf, ann]\n",
    "metrics = ['Accuracy', 'Precision', 'Recall', 'F1 Score']\n",
    "comparison_df = pd.DataFrame(index=metrics)\n",
    "for model in models:\n",
    "    \n",
    "    if model == ann:\n",
    "        pred_proba = ann.predict(X_test.astype('float32'))[:,1]\n",
    "        model_pred = np.where(pred_proba > 0.5, 1,0)\n",
    "        \n",
    "    else:\n",
    "        model_pred = model.predict(X_test)\n",
    "        \n",
    "    accuracy = round(accuracy_score(y_test, model_pred), 4)\n",
    "    recall = round(recall_score(y_test, model_pred), 4)\n",
    "    precision = round(precision_score(y_test, model_pred), 4)\n",
    "    f1 = round(f1_score(y_test, model_pred), 4)\n",
    "\n",
    "    model_statistics = pd.DataFrame(index=metrics, data=[accuracy, precision, recall, f1], columns=[model.__class__.__name__])\n",
    "    comparison_df = comparison_df.join(model_statistics)\n",
    "comparison_df"
   ]
  },
  {
   "cell_type": "markdown",
   "metadata": {},
   "source": [
    "We can see that the Random Forest model is the best model in for every metric except for recall (Logistic Regression performs best) and even outperforms the Voting Classifier"
   ]
  },
  {
   "cell_type": "code",
   "execution_count": null,
   "metadata": {
    "collapsed": false,
    "jupyter": {
     "outputs_hidden": false
    },
    "pycharm": {
     "name": "#%%\n"
    }
   },
   "outputs": [],
   "source": [
    "get_roc_curve_multiple(models, X_test, y_test)"
   ]
  },
  {
   "cell_type": "markdown",
   "metadata": {},
   "source": [
    "The ROC curves for all models look very well balanced towards the top left corner - as expected, the Random Forest Classifier also performs best in this aspect."
   ]
  },
  {
   "cell_type": "code",
   "execution_count": null,
   "metadata": {
    "collapsed": false,
    "jupyter": {
     "outputs_hidden": false
    },
    "pycharm": {
     "name": "#%%\n"
    }
   },
   "outputs": [],
   "source": [
    "### TO BE DELETED BEFORE SUBMISSION\n",
    "# used for trials with models / features\n",
    "\n",
    "#base_case_metrics = comparison_df.copy()\n",
    "#base_case_metrics.to_csv('base_case_metrics.csv')\n",
    "base_case_metrics = pd.read_csv('base_case_metrics.csv', index_col=0)\n",
    "comparison_df - base_case_metrics"
   ]
  },
  {
   "cell_type": "markdown",
   "metadata": {},
   "source": [
    "### 4.6 Loading and saving of models"
   ]
  },
  {
   "cell_type": "code",
   "execution_count": null,
   "metadata": {
    "collapsed": false,
    "jupyter": {
     "outputs_hidden": false
    },
    "pycharm": {
     "name": "#%%\n"
    }
   },
   "outputs": [],
   "source": [
    "# Saving models\n",
    "\n",
    "import joblib\n",
    "# save the model to disk\n",
    "models_to_save = [best_log_reg, best_rf, best_xgb, voting_clf, ann]\n",
    "all_filenames = []\n",
    "\n",
    "for model in models_to_save:\n",
    "    if model == ann:\n",
    "        ann.save('ann')\n",
    "    else: \n",
    "        label = model.__class__.__name__\n",
    "        filename = label + '.sav'\n",
    "        all_filenames.append(filename)\n",
    "        joblib.dump(model, filename)\n",
    "        print(label + \" saved\")\n",
    "joblib.dump(all_filenames ,\"filenames.sav\")\n",
    "print('\\nall models saved')\n",
    "\n",
    "# Loading the model again if needed\n",
    "#ann = tf.keras.models.load_model('ANN_model1')"
   ]
  },
  {
   "cell_type": "code",
   "execution_count": null,
   "metadata": {
    "collapsed": false,
    "jupyter": {
     "outputs_hidden": false
    },
    "pycharm": {
     "name": "#%%\n"
    }
   },
   "outputs": [],
   "source": [
    "# Loading Models\n",
    "\n",
    "all_filenames = joblib.load(\"filenames.sav\")\n",
    "\n",
    "best_log_reg = joblib.load(all_filenames[0])\n",
    "best_rf = joblib.load(all_filenames[1])\n",
    "best_xgb = joblib.load(all_filenames[2])\n",
    "voting_clf = joblib.load(all_filenames[3])\n",
    "ann = tf.keras.models.load_model('ann')\n"
   ]
  },
  {
   "cell_type": "markdown",
   "metadata": {},
   "source": [
    "## 6. Business Case Calculation\n",
    "\n",
    "### 6.1 simple day based model"
   ]
  },
  {
   "cell_type": "code",
   "execution_count": null,
   "metadata": {
    "collapsed": false,
    "jupyter": {
     "outputs_hidden": false
    },
    "pycharm": {
     "name": "#%%\n"
    }
   },
   "outputs": [],
   "source": [
    "import datetime\n",
    "df_eval_train = df_all[df_all['arrival_date'] < datetime.datetime(2017, 7, 1)]\n",
    "df_eval_test = df_all[df_all['arrival_date'] >= datetime.datetime(2017, 7, 1)]\n",
    "print(df_eval_train.shape)\n",
    "print(df_eval_test.shape)"
   ]
  },
  {
   "cell_type": "code",
   "execution_count": null,
   "metadata": {
    "collapsed": false,
    "jupyter": {
     "outputs_hidden": false
    },
    "pycharm": {
     "name": "#%%\n"
    }
   },
   "outputs": [],
   "source": [
    "clustering_pipeline.fit(df_eval_train)\n",
    "df_eval_train['customer_cluster'] = clustering_pipeline.named_steps['kmeans'].labels_\n",
    "df_eval_train['customer_cluster'] = df_eval_train['customer_cluster'].astype(str)\n",
    "df_eval_test['customer_cluster'] = clustering_pipeline.predict(df_eval_test)\n",
    "df_eval_test['customer_cluster'] = df_eval_test['customer_cluster'].astype(str)\n",
    "\n",
    "X_train_eval = preprocessor.fit_transform(df_eval_train)\n",
    "y_train_eval = df_eval_train['is_canceled']\n",
    "X_test_eval = preprocessor.transform(df_eval_test)\n",
    "y_test_eval = df_eval_test['is_canceled']\n",
    "\n",
    "best_rf.fit(X_train_eval, y_train_eval)\n",
    "y_pred_eval = best_rf.predict(X_test_eval)\n",
    "df_eval_test['is_canceled_predicted'] = y_pred_eval"
   ]
  },
  {
   "cell_type": "markdown",
   "metadata": {},
   "source": [
    "- If booking is canceled and we predict it correctly: + ADR from that booking\n",
    "- The False Positives and Negatives are summed up per day"
   ]
  },
  {
   "cell_type": "code",
   "execution_count": null,
   "metadata": {
    "collapsed": false,
    "jupyter": {
     "outputs_hidden": false
    },
    "pycharm": {
     "name": "#%%\n"
    }
   },
   "outputs": [],
   "source": [
    "df_profit = df_eval_test[['is_canceled', 'is_canceled_predicted', 'arrival_date','adr']]\n",
    "df_profit['correctly_classified'] = np.where((df_profit['is_canceled'] == df_profit['is_canceled_predicted']),\n",
    "                                             1,\n",
    "                                             0)\n",
    "df_profit['additional_adr'] = np.where((df_profit['is_canceled'] == 1) & (df_profit['correctly_classified'] == 1), \n",
    "                                       df_profit['adr'],\n",
    "                                       0) * 0.8\n",
    "display(df_profit)\n",
    "average_adr = df_profit.adr.mean()\n",
    "\n",
    "df_profit_agg = df_profit.groupby('arrival_date').sum()\n",
    "df_profit_agg['neg_adr_overbooking'] = df_profit_agg['is_canceled_predicted'] - df_profit_agg['is_canceled']\n",
    "df_profit_agg['neg_adr_overbooking'] = np.where(df_profit_agg['neg_adr_overbooking'] < 0, \n",
    "                                                0, \n",
    "                                                df_profit_agg['neg_adr_overbooking'])\n",
    "df_profit_agg['neg_adr_overbooking'] *= average_adr * 1.2\n",
    "df_profit_agg"
   ]
  },
  {
   "cell_type": "code",
   "execution_count": null,
   "metadata": {
    "collapsed": false,
    "jupyter": {
     "outputs_hidden": false
    },
    "pycharm": {
     "name": "#%%\n"
    }
   },
   "outputs": [],
   "source": [
    "round(df_profit_agg.additional_adr.sum() - df_profit_agg.neg_adr_overbooking.sum(),2)"
   ]
  },
  {
   "cell_type": "code",
   "execution_count": null,
   "metadata": {
    "collapsed": false,
    "jupyter": {
     "outputs_hidden": false
    },
    "pycharm": {
     "name": "#%%\n"
    }
   },
   "outputs": [],
   "source": [
    "df_profit.groupby('arrival_date').sum()"
   ]
  },
  {
   "cell_type": "code",
   "execution_count": null,
   "metadata": {
    "collapsed": false,
    "jupyter": {
     "outputs_hidden": false
    },
    "pycharm": {
     "name": "#%%\n"
    }
   },
   "outputs": [],
   "source": [
    "round(df_profit_agg.additional_adr.sum() - df_profit_agg.neg_adr_overbooking.sum(),2)"
   ]
  },
  {
   "cell_type": "code",
   "execution_count": null,
   "metadata": {
    "collapsed": false,
    "jupyter": {
     "outputs_hidden": false
    },
    "pycharm": {
     "name": "#%%\n"
    }
   },
   "outputs": [],
   "source": [
    "get_cnf_matrix(df_eval_test['is_canceled'], df_eval_test['is_canceled_predicted'])\n",
    "get_metrics(df_eval_test['is_canceled'], df_eval_test['is_canceled_predicted'])"
   ]
  },
  {
   "cell_type": "markdown",
   "metadata": {},
   "source": [
    "## 5. Appendix"
   ]
  },
  {
   "cell_type": "markdown",
   "metadata": {},
   "source": [
    "### 5.1 ADR per Person\n",
    "We've seen that both the number of persons and the adr are features that influence whether a booking is cancelled or not. At the same time, adr is highly correlated with group size. Let's see if calculating the adr per person helps to explain cancellations as it removes the information captured in group size already.\n",
    "\n",
    "First, we construct different versions of the adr per person: One per guest (including babies and children) and one per adult. This way we ensure to test whether the pricing structure of the hotel also reflects whether children or babies are part of the guests."
   ]
  },
  {
   "cell_type": "code",
   "execution_count": null,
   "metadata": {
    "collapsed": false,
    "jupyter": {
     "outputs_hidden": false
    },
    "pycharm": {
     "name": "#%%\n"
    }
   },
   "outputs": [],
   "source": [
    "df_adr = df.copy()\n",
    "df_adr['adults'].replace({0: df_adr['adults'].median()}, inplace=True)\n",
    "df_adr['guests'].replace({0: df_adr['guests'].median()}, inplace=True)\n",
    "df_adr['adr_per_guest'] = df_adr['adr'] / df_adr['guests']\n",
    "df_adr['adr_per_adult'] = df_adr['adr'] / df_adr['adults']"
   ]
  },
  {
   "cell_type": "markdown",
   "metadata": {},
   "source": [
    "Let's see the correlation with is_cancelled for all versions and the original adr..."
   ]
  },
  {
   "cell_type": "code",
   "execution_count": null,
   "metadata": {
    "collapsed": false,
    "jupyter": {
     "outputs_hidden": false
    },
    "pycharm": {
     "name": "#%%\n"
    }
   },
   "outputs": [],
   "source": [
    "df_adr[['adr', 'adr_per_guest', 'adr_per_adult', 'is_canceled']].corr()['is_canceled']"
   ]
  },
  {
   "cell_type": "markdown",
   "metadata": {},
   "source": [
    "Unfortunately, the adr per person does not help us more in explaining cancellations than the group adr does."
   ]
  },
  {
   "cell_type": "markdown",
   "metadata": {},
   "source": [
    "### 5.2 K-Means clustering of customers\n",
    "In 3.2, it is striking that only few of the categorical features that depict the type of customer, such as the room in which they stay, the meal ordered, or the group size are part of the top 15 features. Let's have a closer look at how these features ranked in the recursive feature elimination:"
   ]
  },
  {
   "cell_type": "code",
   "execution_count": null,
   "metadata": {
    "collapsed": false,
    "jupyter": {
     "outputs_hidden": false
    },
    "pycharm": {
     "name": "#%%\n"
    }
   },
   "outputs": [],
   "source": [
    "customer_attribs = ['guests', 'reserved_room_type', 'meal', 'stay_total_nights', 'is_family', 'hotel', 'distribution_channel', 'customer_type', 'is_repeated_guest']\n",
    "feat_rank_names = feat_rank_df.index.tolist()\n",
    "customer_attribs_mask = [any(customer_attrib in feat_name for customer_attrib in customer_attribs) for feat_name in feat_rank_names]\n",
    "feat_rank_df[customer_attribs_mask]"
   ]
  },
  {
   "cell_type": "markdown",
   "metadata": {},
   "source": [
    "Only 2 of the customer characteristics made it into the top 15. The rest got kicked out pretty early. The reason for this could be that these features contain that many sub-categories, that each sole subcategory does not explain cancellations sufficiently. There might still be the possibility that combined, these features *do* actually have relevance. In the following, we test this possibility by clustering customers based on their characteristics such as room type or meal and test, whether these clusters help to predict cancellations.\n",
    "\n",
    "First, we binarize the categorical features:"
   ]
  },
  {
   "cell_type": "code",
   "execution_count": null,
   "metadata": {
    "collapsed": false,
    "jupyter": {
     "outputs_hidden": false
    },
    "pycharm": {
     "name": "#%%\n"
    }
   },
   "outputs": [],
   "source": [
    "cluster_df = df[customer_attribs]\n",
    "cluster_df"
   ]
  },
  {
   "cell_type": "code",
   "execution_count": null,
   "metadata": {
    "collapsed": false,
    "jupyter": {
     "outputs_hidden": false
    },
    "pycharm": {
     "name": "#%%\n"
    }
   },
   "outputs": [],
   "source": [
    "cols_to_binarize = cluster_df.columns[cluster_df.dtypes == 'object'].tolist()\n",
    "for col in cols_to_binarize:\n",
    "    dummy_cols = pd.get_dummies(cluster_df[col], prefix=col)\n",
    "    cluster_df = pd.concat([cluster_df, dummy_cols], axis=1)\n",
    "cluster_df.drop(columns=cols_to_binarize, axis=1, inplace=True)\n",
    "cluster_df"
   ]
  },
  {
   "cell_type": "markdown",
   "metadata": {},
   "source": [
    "Next, we try different cluster sizes from 2 to 10 and observe the silhouette score obtained for each k:"
   ]
  },
  {
   "cell_type": "code",
   "execution_count": null,
   "metadata": {
    "collapsed": false,
    "jupyter": {
     "outputs_hidden": false
    },
    "pycharm": {
     "name": "#%%\n"
    }
   },
   "outputs": [],
   "source": [
    "from sklearn.cluster import KMeans\n",
    "from sklearn.metrics import silhouette_score\n",
    "from tqdm import tqdm\n",
    "\n",
    "scores = []\n",
    "k_min = 2\n",
    "k_max = 10\n",
    "k_range = range(k_min, k_max+1)\n",
    "\n",
    "for k in tqdm(k_range):\n",
    "    kmeans = KMeans(n_clusters=k, random_state=seed)\n",
    "    kmeans.fit(cluster_df)\n",
    "    labels = kmeans.labels_\n",
    "    score = silhouette_score(cluster_df, labels, metric = 'euclidean')\n",
    "    scores.append(score)\n",
    "plt.plot(k_range, scores, marker='o')\n",
    "plt.xlabel('k')\n",
    "plt.ylabel('Silhouette Score')\n",
    "plt.title('Silhouette Scores for Variations of k')"
   ]
  },
  {
   "cell_type": "markdown",
   "metadata": {},
   "source": [
    "The resulting silhouette score is highest for k=2. This though would not help us much, since the resulting clusters would very likely only be split between city and resort hotel. Thus, we want to choose a higher k, that can reflect differences within each hotel type as well. In the following, we'll work with k=4.\n",
    "\n",
    "In order to understand the resulting clusters better, we can look at their sizes and the 'median customer' of each:"
   ]
  },
  {
   "cell_type": "code",
   "execution_count": null,
   "metadata": {
    "collapsed": false,
    "jupyter": {
     "outputs_hidden": false
    },
    "pycharm": {
     "name": "#%%\n"
    }
   },
   "outputs": [],
   "source": [
    "kmeans = KMeans(n_clusters=4, n_init=30, max_iter=500, random_state=seed)\n",
    "kmeans.fit(cluster_df)\n",
    "pd.DataFrame(data=[pd.Series(kmeans.labels_).value_counts(), pd.Series(kmeans.labels_).value_counts(normalize=True)], index=['count', 'relative']).T"
   ]
  },
  {
   "cell_type": "markdown",
   "metadata": {},
   "source": [
    "More than 80% of the customers are clustered in the top 2 clusters. The remaining clusters are very small, especially cluster 2 with only 1.4%.\n",
    "\n",
    "Let's have a look at how the median customer per cluster looks like:"
   ]
  },
  {
   "cell_type": "code",
   "execution_count": null,
   "metadata": {
    "collapsed": false,
    "jupyter": {
     "outputs_hidden": false
    },
    "pycharm": {
     "name": "#%%\n"
    }
   },
   "outputs": [],
   "source": [
    "cluster_df['predicted_cluster'] = kmeans.labels_\n",
    "cluster_df.groupby('predicted_cluster').median()"
   ]
  },
  {
   "cell_type": "code",
   "execution_count": null,
   "metadata": {
    "collapsed": false,
    "jupyter": {
     "outputs_hidden": false
    },
    "pycharm": {
     "name": "#%%\n"
    }
   },
   "outputs": [],
   "source": [
    "clusters = cluster_df['predicted_cluster'].unique()\n",
    "for cluster in clusters:\n",
    "    cluster_data = cluster_df[cluster_df['predicted_cluster'] == cluster]\n",
    "    percent_of_total = cluster_data.shape[0] / cluster_df.shape[0]\n",
    "    print(f\"Cluster {cluster} ({round(percent_of_total*100, 2)}% of total):\")\n",
    "    for col in [c for c in cluster_data.columns if c != 'predicted_cluster']:\n",
    "        count = cluster_data[col].value_counts(normalize=True)\n",
    "        top_count = count.nlargest(1)\n",
    "        print(f\"\\t{col}: {top_count.index[0]} ({int(round(top_count.values[0]*100,0))}%)\")"
   ]
  },
  {
   "cell_type": "markdown",
   "metadata": {},
   "source": [
    "Next, we need to understand whether the clustering will improve our model performance. For simplicity, we only take the current best working model (Random Forest) and compare the obtained scores.\n",
    "\n",
    "First, we construct the pipeline for k-means clustering:"
   ]
  },
  {
   "cell_type": "code",
   "execution_count": null,
   "metadata": {
    "collapsed": false,
    "jupyter": {
     "outputs_hidden": false
    },
    "pycharm": {
     "name": "#%%\n"
    }
   },
   "outputs": [],
   "source": [
    "cust_cluster_attribs_num = ['guests', 'stay_total_nights']\n",
    "cust_cluster_attribs_bin = ['is_family', 'is_repeated_guest']\n",
    "cust_cluster_attribs_cat = ['reserved_room_type', 'meal', 'hotel', 'distribution_channel', 'customer_type']\n",
    "\n",
    "cluster_numeric_transformer = Pipeline(\n",
    "    steps=[\n",
    "        ('imputer', SimpleImputer(strategy='median')),\n",
    "        ('scaler', StandardScaler())\n",
    "    ]\n",
    ")\n",
    "\n",
    "cluster_binary_transformer = Pipeline(\n",
    "    steps=[\n",
    "        ('imputer', SimpleImputer(strategy='median'))\n",
    "    ]\n",
    ")\n",
    "\n",
    "cluster_categorical_transformer = Pipeline(\n",
    "    steps=[\n",
    "        ('imputer', SimpleImputer(strategy='most_frequent')),\n",
    "        ('encoder', OneHotEncoder(handle_unknown='ignore', sparse=False))\n",
    "    ]\n",
    ")\n",
    "\n",
    "clustering_preprocessing = ColumnTransformer(\n",
    "    transformers=[\n",
    "        ('num', cluster_numeric_transformer, cust_cluster_attribs_num),\n",
    "        ('cat', cluster_categorical_transformer, cust_cluster_attribs_cat),\n",
    "        ('binary', cluster_binary_transformer, cust_cluster_attribs_bin)\n",
    "    ]\n",
    ")\n",
    "\n",
    "clustering_pipeline = Pipeline(\n",
    "    steps=[\n",
    "        ('preprocessor', clustering_preprocessing),\n",
    "        ('kmeans', KMeans(n_clusters=4, n_init=20, max_iter=500, random_state=seed))\n",
    "    ]\n",
    ")\n",
    "\n",
    "clustering_pipeline.fit(df)"
   ]
  },
  {
   "cell_type": "markdown",
   "metadata": {},
   "source": [
    "Then we enrich the train set with clusters resulting from the previously constructed and fitted pipeline, and the test set with the predicted clusters from that pipeline:"
   ]
  },
  {
   "cell_type": "code",
   "execution_count": null,
   "metadata": {
    "collapsed": false,
    "jupyter": {
     "outputs_hidden": false
    },
    "pycharm": {
     "name": "#%%\n"
    }
   },
   "outputs": [],
   "source": [
    "df_cluster_performance_train = df.copy()\n",
    "df_cluster_performance_test = df_test.copy()\n",
    "df_cluster_performance_train['customer_cluster'] = clustering_pipeline.named_steps['kmeans'].labels_\n",
    "df_cluster_performance_test['customer_cluster'] = clustering_pipeline.predict(df_cluster_performance_test)\n",
    "#df_cluster_performance_train['customer_cluster'] = kmeans.labels_\n",
    "#df_cluster_performance_test['customer_cluster'] = kmeans.predict(truncator.transform(clustering_preprocessing.fit_transform(df_cluster_performance_test)))"
   ]
  },
  {
   "cell_type": "markdown",
   "metadata": {},
   "source": [
    "In order to compare the models, we need to include the customer clusters in our preprocessing pipeline. We do this by appending a pipeline that one-hot-encodes the clusters:"
   ]
  },
  {
   "cell_type": "code",
   "execution_count": null,
   "metadata": {
    "collapsed": false,
    "jupyter": {
     "outputs_hidden": false
    },
    "pycharm": {
     "name": "#%%\n"
    }
   },
   "outputs": [],
   "source": [
    "transformers = preprocessor.transformer_list.copy()\n",
    "\n",
    "cluster_pipeline = Pipeline(\n",
    "    steps=[\n",
    "        ('selector', ColumnSelector(['customer_cluster'])),\n",
    "        ('encoder', OneHotEncoder(handle_unknown='ignore', sparse=False))\n",
    "    ]\n",
    ")\n",
    "transformers.append(('cluster_pipeline', cluster_pipeline))\n",
    "preprocessor_w_clustering = FeatureUnion(transformers)"
   ]
  },
  {
   "cell_type": "markdown",
   "metadata": {},
   "source": [
    "Ready to go. Now we can get the train and test set and compare the performance of a model with and without customer clusters."
   ]
  },
  {
   "cell_type": "code",
   "execution_count": null,
   "metadata": {
    "collapsed": false,
    "jupyter": {
     "outputs_hidden": false
    },
    "pycharm": {
     "name": "#%%\n"
    }
   },
   "outputs": [],
   "source": [
    "X_train_cluster = preprocessor_w_clustering.fit_transform(df_cluster_performance_train)\n",
    "y_train_cluster = df_cluster_performance_train['is_canceled']\n",
    "\n",
    "X_test_cluster = preprocessor_w_clustering.fit_transform(df_cluster_performance_test)\n",
    "y_test_cluster = df_cluster_performance_test['is_canceled']"
   ]
  },
  {
   "cell_type": "code",
   "execution_count": null,
   "metadata": {
    "collapsed": false,
    "jupyter": {
     "outputs_hidden": false
    },
    "pycharm": {
     "name": "#%%\n"
    }
   },
   "outputs": [],
   "source": [
    "from sklearn.metrics import recall_score, precision_score, accuracy_score, f1_score\n",
    "from sklearn.base import clone\n",
    "\n",
    "rf_original = clone(best_rf).fit(X_train, y_train)\n",
    "rf_cluster = clone(best_rf).fit(X_train_cluster, y_train_cluster)\n",
    "\n",
    "models = [rf_original, rf_cluster]\n",
    "model_names = ['Original', 'With Clusters']\n",
    "model_test_sets = [(X_test, y_test), (X_test_cluster, y_test_cluster)]\n",
    "metrics = ['Accuracy', 'Precision', 'Recall', 'F1 Score']\n",
    "comparison_df = pd.DataFrame(index=metrics)\n",
    "for i, model in enumerate(models):\n",
    "    model_pred = model.predict(model_test_sets[i][0])\n",
    "    model_y_test = model_test_sets[i][1]\n",
    "    accuracy = round(accuracy_score(model_y_test, model_pred), 4)\n",
    "    recall = round(recall_score(model_y_test, model_pred), 4)\n",
    "    precision = round(precision_score(model_y_test, model_pred), 4)\n",
    "    f1 = round(f1_score(model_y_test, model_pred), 4)\n",
    "\n",
    "    model_statistics = pd.DataFrame(index=metrics, data=[accuracy, precision, recall, f1], columns=[model_names[i]])\n",
    "    comparison_df = comparison_df.join(model_statistics)\n",
    "comparison_df"
   ]
  },
  {
   "cell_type": "markdown",
   "metadata": {},
   "source": [
    "The model performance increased very, very slightly.\n",
    "\n",
    "Let's have a look at how important the clusters are for the predictions:"
   ]
  },
  {
   "cell_type": "code",
   "execution_count": null,
   "metadata": {
    "collapsed": false,
    "jupyter": {
     "outputs_hidden": false
    },
    "pycharm": {
     "name": "#%%\n"
    }
   },
   "outputs": [],
   "source": [
    "print(f\"Importances: {rf_cluster.feature_importances_[-4:]}\")\n",
    "print(f\"Total: {round(sum(rf_cluster.feature_importances_[-4:])*100, 1)}%\")"
   ]
  },
  {
   "cell_type": "markdown",
   "metadata": {},
   "source": [
    "Each of the resulting clusters added low importance (<=1%) to the model. Altogether, the clusters account for only ~2.7% of the model's feature importances."
   ]
  },
  {
   "cell_type": "markdown",
   "metadata": {},
   "source": [
    "**Conclusion for Customer Clusters:**\n",
    "<br>Clustering the customers into clusters only helps to improve the model performance very slightly. At the same time, it adds additional computation time and complexity. Considering this, we will refrain from using customer clusters as features in the final model."
   ]
  }
 ],
 "metadata": {
  "kernelspec": {
   "display_name": "Python 3.9 (tensorflow)",
   "language": "python",
   "name": "tensorflow"
  },
  "language_info": {
   "codemirror_mode": {
    "name": "ipython",
    "version": 3
   },
   "file_extension": ".py",
   "mimetype": "text/x-python",
   "name": "python",
   "nbconvert_exporter": "python",
   "pygments_lexer": "ipython3",
   "version": "3.9.12"
  }
 },
 "nbformat": 4,
 "nbformat_minor": 4
}
